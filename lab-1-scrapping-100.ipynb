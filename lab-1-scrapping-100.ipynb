{
 "cells": [
  {
   "cell_type": "code",
   "execution_count": 1,
   "id": "0e6aed4f",
   "metadata": {},
   "outputs": [],
   "source": [
    "import requests\n",
    "from bs4 import BeautifulSoup"
   ]
  },
  {
   "cell_type": "code",
   "execution_count": 2,
   "id": "f9ba9b26",
   "metadata": {},
   "outputs": [],
   "source": [
    "url = 'https://www.billboard.com/charts/hot-100/'"
   ]
  },
  {
   "cell_type": "code",
   "execution_count": 3,
   "id": "39f2b677",
   "metadata": {},
   "outputs": [
    {
     "data": {
      "text/plain": [
       "200"
      ]
     },
     "execution_count": 3,
     "metadata": {},
     "output_type": "execute_result"
    }
   ],
   "source": [
    "response = requests.get(url)\n",
    "response.status_code"
   ]
  },
  {
   "cell_type": "code",
   "execution_count": 4,
   "id": "8596ed4d",
   "metadata": {},
   "outputs": [],
   "source": [
    "soup = BeautifulSoup(response.content, 'html.parser')\n",
    "#soup"
   ]
  },
  {
   "cell_type": "code",
   "execution_count": 5,
   "id": "8f00e8c0",
   "metadata": {},
   "outputs": [
    {
     "name": "stdout",
     "output_type": "stream",
     "text": [
      "TOTALS ARE:  116\n"
     ]
    }
   ],
   "source": [
    "all_artists = soup.select('#title-of-a-story')\n",
    "print(\"TOTALS ARE: \",len(all_artists))\n",
    "#only_artist = all_artists.select('.c-title')\n",
    "for artist in all_artists:\n",
    "    if 'c-title' in artist:\n",
    "        print(artist.getText())"
   ]
  },
  {
   "cell_type": "markdown",
   "id": "f44eebbc",
   "metadata": {},
   "source": [
    "### Too many Artist. Adverts in-between"
   ]
  },
  {
   "cell_type": "code",
   "execution_count": 6,
   "id": "b4af26e4",
   "metadata": {},
   "outputs": [],
   "source": [
    "title = []\n",
    "artist = []\n",
    "\n",
    "#the first two rows dont have useful information\n",
    "for i in range(2,200,1):\n",
    "    start_at= str(i)\n",
    "    selector1 = \"#post-1479786 > div.pmc-paywall > div > div > div > div.chart-results-list.\\/\\/.lrv-u-padding-t-150.lrv-u-padding-t-050\\@mobile-max > div:nth-child(\" + start_at + \") h3\"\n",
    "    # I do this because there are some ads between the songs and I dont want them\n",
    "    if len(soup.select(selector1)) > 0 :\n",
    "        title.append(str.strip(soup.select(selector1)[0].get_text()))\n",
    "        selector2 = \"#post-1479786 > div.pmc-paywall > div > div > div > div.chart-results-list.\\/\\/.lrv-u-padding-t-150.lrv-u-padding-t-050\\@mobile-max > div:nth-child(\" + start_at + \") > ul > li.lrv-u-width-100p > ul > li.o-chart-results-list__item.\\/\\/.lrv-u-flex-grow-1.lrv-u-flex.lrv-u-flex-direction-column.lrv-u-justify-content-center.lrv-u-border-b-1.u-border-b-0\\@mobile-max.lrv-u-border-color-grey-light.lrv-u-border-color-grey-light.lrv-u-padding-l-1\\@mobile-max span\"\n",
    "        artist.append(str.strip(soup.select(selector2)[0].getText()))\n",
    "\n"
   ]
  },
  {
   "cell_type": "code",
   "execution_count": 7,
   "id": "b79344a0",
   "metadata": {},
   "outputs": [
    {
     "name": "stdout",
     "output_type": "stream",
     "text": [
      "['Easy On Me', 'Stay', 'Industry Baby', 'Bad Habits', 'Shivers', 'One Right Now', 'Fancy Like', 'Smokin Out The Window', 'Need To Know', 'Heat Waves', 'Escape Plan', 'Way 2 Sexy', 'No Love', 'Cold Heart (PNAU Remix)', 'Good 4 U', 'Essence', \"Beggin'\", 'Levitating', 'You Right', 'Kiss Me More', \"If I Didn't Love You\", 'Save Your Tears', 'Knife Talk', 'Chasing After You', 'Bitter', 'Mafia', 'Meet Me At Our Spot', 'Girls Want Girls', 'Better Days', 'Buy Dirt', 'Happier Than Ever', 'Love Nwantiti (Ah Ah Ah)', 'Ex For A Reason', 'Traitor', 'Who Want Smoke??', 'Ghost', 'Pepas', 'Thats What I Want', 'Cold As You', \"Thinking 'Bout You\", 'Throw It Away', 'Montero (Call Me By Your Name)', 'My Universe', 'Reciprocate', 'Toxic', 'Leave The Door Open', 'You Should Probably Leave', 'Unloyal', 'Constant Bulls**t', \"You Don't Know Me\", 'Same Boat', 'Insane', 'Wild Side', 'Circus', 'Have Mercy', '4th Baby Mama', 'Family Ties', 'Gyalis', 'Switch A N*gga Out', 'Closure', 'Chosen', 'Sharing Locations', 'One Mississippi', 'I Was On A Boat That Day', 'Memory', 'Fair Trade', 'Knowing You', 'Session 33', 'Sand In My Boots', 'Take My Breath', 'Moth To A Flame', 'A-O-K', 'Screwin', 'Bubbly', 'Whiskey And Rain', 'Broken Promises', 'Dat Right There', 'Tequila Little Time', \"Memory I Don't Mess With\", 'Sad Girlz Luv Money', 'Slow Down Summer', \"'Til You Can't\", 'Woman', 'Freedom Was A Highway', 'Overpass Graffiti', 'Big Energy', 'Hurricane', 'Cold Beer Calling My Name', 'Jumpin', 'Baddest', 'Jugaste y Sufri', 'For Tonight', 'Maybach', 'Too Easy', 'Volvi', 'Praise God', 'Super Gremlin', 'Poke It Out', 'Half Of My Hometown', '2055']\n",
      "['Adele', 'The Kid LAROI & Justin Bieber', 'Lil Nas X & Jack Harlow', 'Ed Sheeran', 'Ed Sheeran', 'Post Malone & The Weeknd', 'Walker Hayes', 'Silk Sonic (Bruno Mars & Anderson .Paak)', 'Doja Cat', 'Glass Animals', 'Travis Scott', 'Drake Featuring Future & Young Thug', 'Summer Walker & SZA', 'Elton John & Dua Lipa', 'Olivia Rodrigo', 'Wizkid Featuring Justin Bieber & Tems', 'Maneskin', 'Dua Lipa', 'Doja Cat & The Weeknd', 'Doja Cat Featuring SZA', 'Jason Aldean & Carrie Underwood', 'The Weeknd & Ariana Grande', 'Drake Featuring 21 Savage & Project Pat', 'Ryan Hurd With Maren Morris', 'Summer Walker & Cardi B', 'Travis Scott', 'THE ANXIETY: WILLOW & Tyler Cole', 'Drake Featuring Lil Baby', 'NEIKED X Mae Muller X Polo G', 'Jordan Davis Featuring Luke Bryan', 'Billie Eilish', 'CKay', 'Summer Walker & JT', 'Olivia Rodrigo', 'Nardo Wick Featuring G Herbo, Lil Durk & 21 Savage', 'Justin Bieber', 'Farruko', 'Lil Nas X', 'Luke Combs', 'Dustin Lynch Featuring Lauren Alaina Or MacKenzie Porter', 'Summer Walker', 'Lil Nas X', 'Coldplay x BTS', 'Summer Walker', 'Summer Walker Featuring Lil Durk', 'Silk Sonic (Bruno Mars & Anderson .Paak)', 'Chris Stapleton', 'Summer Walker & Ari Lennox', 'Summer Walker', 'Summer Walker', 'Zac Brown Band', 'Summer Walker', 'Normani Featuring Cardi B', 'Summer Walker', 'Chloe', 'Summer Walker', 'Baby Keem & Kendrick Lamar', 'Capella Grey', 'Summer Walker', 'Summer Walker', 'Blxst & Tyga Featuring Ty Dolla $ign', 'Meek Mill Featuring Lil Baby & Lil Durk', 'Kane Brown', 'Old Dominion', 'Kane Brown X blackbear', 'Drake Featuring Travis Scott', 'Kenny Chesney', 'Summer Walker', 'Morgan Wallen', 'The Weeknd', 'Swedish House Mafia & The Weeknd', 'Tai Verdes', 'Summer Walker & Omarion', 'Young Thug With Drake & Travis Scott', 'Michael Ray', 'Summer Walker', 'Summer Walker, Pharrell Williams & The Neptunes', 'Jon Pardi', 'Lee Brice', 'Amaarae & Moliy Featuring Kali Uchis', 'Thomas Rhett', 'Cody Johnson', 'Doja Cat', 'Jimmie Allen & Brad Paisley', 'Ed Sheeran', 'Latto', 'Kanye West', 'Jameson Rodgers Featuring Luke Combs', 'NLE Choppa Featuring Polo G', 'Yung Bleu, Chris Brown & 2 Chainz', 'Eslabon Armado Featuring DannyLux', 'Giveon', '42 Dugg Featuring Future', 'Gunna & Future', 'Aventura x Bad Bunny', 'Kanye West', 'Kodak Black', 'Wale Featuring J. Cole', 'Kelsea Ballerini Featuring Kenny Chesney', 'Sleepy Hallow']\n"
     ]
    }
   ],
   "source": [
    "print(title)\n",
    "print(artist)"
   ]
  },
  {
   "cell_type": "code",
   "execution_count": null,
   "id": "c34ebb20",
   "metadata": {},
   "outputs": [],
   "source": []
  }
 ],
 "metadata": {
  "kernelspec": {
   "display_name": "Python 3 (ipykernel)",
   "language": "python",
   "name": "python3"
  },
  "language_info": {
   "codemirror_mode": {
    "name": "ipython",
    "version": 3
   },
   "file_extension": ".py",
   "mimetype": "text/x-python",
   "name": "python",
   "nbconvert_exporter": "python",
   "pygments_lexer": "ipython3",
   "version": "3.8.11"
  }
 },
 "nbformat": 4,
 "nbformat_minor": 5
}
