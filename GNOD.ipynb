{
 "cells": [
  {
   "cell_type": "code",
   "execution_count": 24,
   "id": "592bf512",
   "metadata": {},
   "outputs": [],
   "source": [
    "import spotipy\n",
    "from spotipy.oauth2 import SpotifyClientCredentials\n",
    "import pandas as pd\n",
    "from sklearn.cluster import KMeans\n",
    "from sklearn import cluster, datasets\n",
    "from sklearn.preprocessing import StandardScaler\n",
    "from random import randint\n",
    "from time import sleep"
   ]
  },
  {
   "cell_type": "code",
   "execution_count": 25,
   "id": "7df9ed3b",
   "metadata": {},
   "outputs": [],
   "source": [
    "secrets_file = open(\"secrets.txt\",\"r\")\n",
    "string = secrets_file.read()\n",
    "string.split('\\n')\n",
    "secrets_dict={}\n",
    "for line in string.split('\\n'):\n",
    "    if len(line) > 0:\n",
    "        secrets_dict[line.split(':')[0]]=line.split(':')[1]"
   ]
  },
  {
   "cell_type": "code",
   "execution_count": 26,
   "id": "1d402000",
   "metadata": {},
   "outputs": [
    {
     "data": {
      "text/plain": [
       "{'Client ID': 'd9dda3bf70ac46268e3dec15ffe8c519',\n",
       " 'Client Secret': 'eddafbd13aea49edab1b6e63e871966d'}"
      ]
     },
     "execution_count": 26,
     "metadata": {},
     "output_type": "execute_result"
    }
   ],
   "source": [
    "secrets_dict"
   ]
  },
  {
   "cell_type": "code",
   "execution_count": 27,
   "id": "4fbe5204",
   "metadata": {},
   "outputs": [],
   "source": [
    "#Initialize SpotiPy with user credentials\n",
    "sp = spotipy.Spotify(auth_manager=SpotifyClientCredentials(client_id=secrets_dict['Client ID'],\n",
    "                                                           client_secret=secrets_dict['Client Secret']))"
   ]
  },
  {
   "cell_type": "code",
   "execution_count": null,
   "id": "92e033e3",
   "metadata": {},
   "outputs": [],
   "source": [
    "# we will use our 'first paid music' playlist as an example:\n",
    "#playlist = sp.user_playlist_tracks(\"spotify\", \"1UV8OzKszYVhBHoyUAuSvV\")"
   ]
  },
  {
   "cell_type": "code",
   "execution_count": null,
   "id": "376d27f2",
   "metadata": {},
   "outputs": [],
   "source": [
    "#playlist"
   ]
  },
  {
   "cell_type": "code",
   "execution_count": null,
   "id": "cbcec842",
   "metadata": {},
   "outputs": [],
   "source": [
    "len(playlist)"
   ]
  },
  {
   "cell_type": "code",
   "execution_count": null,
   "id": "cd23510b",
   "metadata": {},
   "outputs": [],
   "source": [
    "playlist = sp.user_playlist_tracks(\"spotify\", \"4rnleEAOdmFAbRcNCgZMpY\")\n",
    "len(playlist)"
   ]
  },
  {
   "cell_type": "code",
   "execution_count": null,
   "id": "3e4c5155",
   "metadata": {},
   "outputs": [],
   "source": [
    "def get_playlist_tracks(playlist_id):\n",
    "    results = sp.user_playlist_tracks(\"spotify\",playlist_id)\n",
    "    tracks = results['items']\n",
    "    while results['next']!=None:\n",
    "        results = sp.next(results)\n",
    "        tracks = tracks + results['items']\n",
    "        sleep(randint(1,3))\n",
    "    return tracks"
   ]
  },
  {
   "cell_type": "code",
   "execution_count": null,
   "id": "332e3097",
   "metadata": {},
   "outputs": [],
   "source": [
    "# all_tracks = get_playlist_tracks(\"0BUNSGihi2mrhQu3fPcVim\")\n",
    "# len(all_tracks)"
   ]
  },
  {
   "cell_type": "code",
   "execution_count": null,
   "id": "f8cdacde",
   "metadata": {},
   "outputs": [],
   "source": [
    "new_tracks = get_playlist_tracks('0BUNSGihi2mrhQu3fPcVim')\n",
    "len(new_tracks)"
   ]
  },
  {
   "cell_type": "code",
   "execution_count": null,
   "id": "822cc38b",
   "metadata": {},
   "outputs": [],
   "source": [
    "#new_tracks"
   ]
  },
  {
   "cell_type": "code",
   "execution_count": null,
   "id": "33b22f09",
   "metadata": {},
   "outputs": [],
   "source": [
    "def uris(new_tracks):\n",
    "    uris = [new_tracks[i]['track']['uri'] for i in range(len(new_tracks))]\n",
    "    return uris\n",
    "uris = uris(new_tracks)\n"
   ]
  },
  {
   "cell_type": "code",
   "execution_count": null,
   "id": "61ff5022",
   "metadata": {},
   "outputs": [],
   "source": [
    "len(uris)"
   ]
  },
  {
   "cell_type": "code",
   "execution_count": null,
   "id": "b3439f37",
   "metadata": {},
   "outputs": [],
   "source": [
    "df_all_uris = pd.DataFrame(uris, columns=['uri'])   \n",
    "df_all_uris.shape"
   ]
  },
  {
   "cell_type": "code",
   "execution_count": null,
   "id": "081b63d7",
   "metadata": {},
   "outputs": [],
   "source": [
    "def all_track_names(all_tracks):\n",
    "    names = [all_tracks[i]['track']['name'] for i in range(len(all_tracks))]      #tracks\n",
    "    return names\n",
    "all_track_names = all_track_names(all_tracks)\n"
   ]
  },
  {
   "cell_type": "code",
   "execution_count": null,
   "id": "61a051f7",
   "metadata": {},
   "outputs": [],
   "source": [
    "df_all_tracks = pd.DataFrame(all_track_names, columns=['tracks'])      #uris data frame\n",
    "df_all_tracks.shape"
   ]
  },
  {
   "cell_type": "code",
   "execution_count": null,
   "id": "f268afdb",
   "metadata": {},
   "outputs": [],
   "source": [
    "def all_artists(all_tracks):\n",
    "    artist = [all_tracks[i]['track']['artists'][0]['name'] for i in range(len(all_tracks))]    #artists\n",
    "    return artist  \n",
    "all_artists = all_artists(all_tracks)\n"
   ]
  },
  {
   "cell_type": "code",
   "execution_count": null,
   "id": "50a297c1",
   "metadata": {},
   "outputs": [],
   "source": [
    "artists_df = pd.DataFrame(all_artists, columns=['artist'])         #artitst data frame\n",
    "artists_df.shape"
   ]
  },
  {
   "cell_type": "code",
   "execution_count": null,
   "id": "fff2191a",
   "metadata": {},
   "outputs": [],
   "source": [
    "features = [sp.audio_features(i) for i in (uris)]"
   ]
  },
  {
   "cell_type": "code",
   "execution_count": null,
   "id": "7d26b21f",
   "metadata": {},
   "outputs": [],
   "source": [
    "features"
   ]
  },
  {
   "cell_type": "code",
   "execution_count": null,
   "id": "780705f7",
   "metadata": {},
   "outputs": [],
   "source": [
    "flat_list = [x for item in features for x in item ]      \n",
    "flat_list"
   ]
  },
  {
   "cell_type": "code",
   "execution_count": null,
   "id": "361de6d2",
   "metadata": {},
   "outputs": [],
   "source": [
    "danceability = [item['danceability'] for item in flat_list]\n",
    "energy = [item['energy'] for item in flat_list]\n",
    "key = [item['key'] for item in flat_list]\n",
    "loudness = [item['loudness'] for item in flat_list]\n",
    "mode = [item['mode'] for item in flat_list]\n",
    "speechiness = [item['speechiness'] for item in flat_list]\n",
    "acousticness = [item['acousticness'] for item in flat_list]\n",
    "instrumentalness = [item['instrumentalness'] for item in flat_list]\n",
    "liveness = [item['liveness'] for item in flat_list]\n",
    "valence = [item['valence'] for item in flat_list]\n",
    "tempo = [item['tempo'] for item in flat_list]"
   ]
  },
  {
   "cell_type": "code",
   "execution_count": null,
   "id": "dfc4bd6b",
   "metadata": {},
   "outputs": [],
   "source": [
    "# attributes = ['danceability','energy','key','loudness','mode','speechiness','acousticness','instrumentalness','liveness','valence','tempo']\n",
    "# for attr in attributes:\n",
    "#     attr = [item[attr] for item in flat_list]"
   ]
  },
  {
   "cell_type": "code",
   "execution_count": null,
   "id": "8d369768",
   "metadata": {},
   "outputs": [],
   "source": [
    "features_df = pd.DataFrame.from_dict({'danceability':danceability, 'energy':energy, 'key':key, 'loudness':loudness, 'mode':mode, 'speechiness':speechiness, 'acousticness':acousticness, 'instrumentalness':instrumentalness, 'liveness':liveness, 'valence':valence, 'tempo':tempo})\n",
    "features_df.head()\n"
   ]
  },
  {
   "cell_type": "code",
   "execution_count": null,
   "id": "c4186a86",
   "metadata": {},
   "outputs": [],
   "source": [
    "# CONCATINATE ALL DATAFRAMES\n",
    "overall_df = pd.concat([artists_df,df_all_tracks,df_all_uris,features_df], axis = 1)\n",
    "#overall_df.to_csv('E:\\\\SKUL\\\\PROGRAMMING_SKULS\\\\ironhack\\\\COURSE\\\\UNIT_6\\\\GMOD.csv')\n",
    "overall_df.head()"
   ]
  },
  {
   "cell_type": "markdown",
   "id": "850810ec",
   "metadata": {},
   "source": [
    "# GNOD PROJECT"
   ]
  },
  {
   "cell_type": "markdown",
   "id": "129f9f9b",
   "metadata": {},
   "source": [
    "### Drop the Non-numerical columns or simply use the features dataframe"
   ]
  },
  {
   "cell_type": "code",
   "execution_count": null,
   "id": "599f7706",
   "metadata": {},
   "outputs": [],
   "source": [
    "#overall_df = overall_df.drop([])"
   ]
  },
  {
   "cell_type": "code",
   "execution_count": 2,
   "id": "69c8f12f",
   "metadata": {},
   "outputs": [
    {
     "data": {
      "text/html": [
       "<div>\n",
       "<style scoped>\n",
       "    .dataframe tbody tr th:only-of-type {\n",
       "        vertical-align: middle;\n",
       "    }\n",
       "\n",
       "    .dataframe tbody tr th {\n",
       "        vertical-align: top;\n",
       "    }\n",
       "\n",
       "    .dataframe thead th {\n",
       "        text-align: right;\n",
       "    }\n",
       "</style>\n",
       "<table border=\"1\" class=\"dataframe\">\n",
       "  <thead>\n",
       "    <tr style=\"text-align: right;\">\n",
       "      <th></th>\n",
       "      <th>artist</th>\n",
       "      <th>tracks</th>\n",
       "      <th>uri</th>\n",
       "      <th>danceability</th>\n",
       "      <th>energy</th>\n",
       "      <th>key</th>\n",
       "      <th>loudness</th>\n",
       "      <th>mode</th>\n",
       "      <th>speechiness</th>\n",
       "      <th>acousticness</th>\n",
       "      <th>instrumentalness</th>\n",
       "      <th>liveness</th>\n",
       "      <th>valence</th>\n",
       "      <th>tempo</th>\n",
       "    </tr>\n",
       "  </thead>\n",
       "  <tbody>\n",
       "    <tr>\n",
       "      <th>0</th>\n",
       "      <td>The Muppets</td>\n",
       "      <td>Rainbow Connection</td>\n",
       "      <td>spotify:track:1SJ4ycWow4yz6z4oFz8NAG</td>\n",
       "      <td>0.526</td>\n",
       "      <td>0.413</td>\n",
       "      <td>9</td>\n",
       "      <td>-7.674</td>\n",
       "      <td>1</td>\n",
       "      <td>0.0278</td>\n",
       "      <td>0.42800</td>\n",
       "      <td>0.000000</td>\n",
       "      <td>0.1260</td>\n",
       "      <td>0.211</td>\n",
       "      <td>115.936</td>\n",
       "    </tr>\n",
       "    <tr>\n",
       "      <th>1</th>\n",
       "      <td>Israel Kamakawiwo'ole</td>\n",
       "      <td>Somewhere Over The Rainbow_What A Wonderful World</td>\n",
       "      <td>spotify:track:25U7raB3ZSszayTYClh4hF</td>\n",
       "      <td>0.663</td>\n",
       "      <td>0.168</td>\n",
       "      <td>0</td>\n",
       "      <td>-13.725</td>\n",
       "      <td>1</td>\n",
       "      <td>0.0448</td>\n",
       "      <td>0.92800</td>\n",
       "      <td>0.000057</td>\n",
       "      <td>0.3610</td>\n",
       "      <td>0.678</td>\n",
       "      <td>85.005</td>\n",
       "    </tr>\n",
       "    <tr>\n",
       "      <th>2</th>\n",
       "      <td>Joey Ramone</td>\n",
       "      <td>What a Wonderful World</td>\n",
       "      <td>spotify:track:04cdEVbQPb8BJb7593e5fO</td>\n",
       "      <td>0.422</td>\n",
       "      <td>0.878</td>\n",
       "      <td>5</td>\n",
       "      <td>-4.863</td>\n",
       "      <td>1</td>\n",
       "      <td>0.0442</td>\n",
       "      <td>0.00935</td>\n",
       "      <td>0.332000</td>\n",
       "      <td>0.2010</td>\n",
       "      <td>0.496</td>\n",
       "      <td>84.044</td>\n",
       "    </tr>\n",
       "    <tr>\n",
       "      <th>3</th>\n",
       "      <td>Asaf Avidan &amp; the Mojos</td>\n",
       "      <td>One Day / Reckoning Song (Wankelmut Remix) [Ra...</td>\n",
       "      <td>spotify:track:5HSkycOEtb9iQ7cg1Oyqmu</td>\n",
       "      <td>0.821</td>\n",
       "      <td>0.676</td>\n",
       "      <td>3</td>\n",
       "      <td>-6.366</td>\n",
       "      <td>0</td>\n",
       "      <td>0.0547</td>\n",
       "      <td>0.18700</td>\n",
       "      <td>0.000100</td>\n",
       "      <td>0.0927</td>\n",
       "      <td>0.559</td>\n",
       "      <td>119.012</td>\n",
       "    </tr>\n",
       "    <tr>\n",
       "      <th>4</th>\n",
       "      <td>Louis Armstrong</td>\n",
       "      <td>What A Wonderful World - Single Version</td>\n",
       "      <td>spotify:track:2pp3RfqX5cb1BAnmNi4Nej</td>\n",
       "      <td>0.388</td>\n",
       "      <td>0.327</td>\n",
       "      <td>5</td>\n",
       "      <td>-12.522</td>\n",
       "      <td>1</td>\n",
       "      <td>0.0317</td>\n",
       "      <td>0.73200</td>\n",
       "      <td>0.001030</td>\n",
       "      <td>0.1500</td>\n",
       "      <td>0.222</td>\n",
       "      <td>107.894</td>\n",
       "    </tr>\n",
       "  </tbody>\n",
       "</table>\n",
       "</div>"
      ],
      "text/plain": [
       "                    artist                                             tracks  \\\n",
       "0              The Muppets                                 Rainbow Connection   \n",
       "1    Israel Kamakawiwo'ole  Somewhere Over The Rainbow_What A Wonderful World   \n",
       "2              Joey Ramone                             What a Wonderful World   \n",
       "3  Asaf Avidan & the Mojos  One Day / Reckoning Song (Wankelmut Remix) [Ra...   \n",
       "4          Louis Armstrong            What A Wonderful World - Single Version   \n",
       "\n",
       "                                    uri  danceability  energy  key  loudness  \\\n",
       "0  spotify:track:1SJ4ycWow4yz6z4oFz8NAG         0.526   0.413    9    -7.674   \n",
       "1  spotify:track:25U7raB3ZSszayTYClh4hF         0.663   0.168    0   -13.725   \n",
       "2  spotify:track:04cdEVbQPb8BJb7593e5fO         0.422   0.878    5    -4.863   \n",
       "3  spotify:track:5HSkycOEtb9iQ7cg1Oyqmu         0.821   0.676    3    -6.366   \n",
       "4  spotify:track:2pp3RfqX5cb1BAnmNi4Nej         0.388   0.327    5   -12.522   \n",
       "\n",
       "   mode  speechiness  acousticness  instrumentalness  liveness  valence  \\\n",
       "0     1       0.0278       0.42800          0.000000    0.1260    0.211   \n",
       "1     1       0.0448       0.92800          0.000057    0.3610    0.678   \n",
       "2     1       0.0442       0.00935          0.332000    0.2010    0.496   \n",
       "3     0       0.0547       0.18700          0.000100    0.0927    0.559   \n",
       "4     1       0.0317       0.73200          0.001030    0.1500    0.222   \n",
       "\n",
       "     tempo  \n",
       "0  115.936  \n",
       "1   85.005  \n",
       "2   84.044  \n",
       "3  119.012  \n",
       "4  107.894  "
      ]
     },
     "execution_count": 2,
     "metadata": {},
     "output_type": "execute_result"
    }
   ],
   "source": [
    "#import pandas as pd\n",
    "overall_df = pd.read_csv('E:\\\\SKUL\\\\PROGRAMMING_SKULS\\\\ironhack\\\\COURSE\\\\UNIT_6\\\\GMOD.csv')\n",
    "overall_df = overall_df.drop(['Unnamed: 0'], axis =1)\n",
    "overall_df.head()"
   ]
  },
  {
   "cell_type": "code",
   "execution_count": 3,
   "id": "df58b776",
   "metadata": {},
   "outputs": [
    {
     "data": {
      "text/html": [
       "<div>\n",
       "<style scoped>\n",
       "    .dataframe tbody tr th:only-of-type {\n",
       "        vertical-align: middle;\n",
       "    }\n",
       "\n",
       "    .dataframe tbody tr th {\n",
       "        vertical-align: top;\n",
       "    }\n",
       "\n",
       "    .dataframe thead th {\n",
       "        text-align: right;\n",
       "    }\n",
       "</style>\n",
       "<table border=\"1\" class=\"dataframe\">\n",
       "  <thead>\n",
       "    <tr style=\"text-align: right;\">\n",
       "      <th></th>\n",
       "      <th>danceability</th>\n",
       "      <th>energy</th>\n",
       "      <th>key</th>\n",
       "      <th>loudness</th>\n",
       "      <th>mode</th>\n",
       "      <th>speechiness</th>\n",
       "      <th>acousticness</th>\n",
       "      <th>instrumentalness</th>\n",
       "      <th>liveness</th>\n",
       "      <th>valence</th>\n",
       "      <th>tempo</th>\n",
       "    </tr>\n",
       "  </thead>\n",
       "  <tbody>\n",
       "    <tr>\n",
       "      <th>0</th>\n",
       "      <td>0.526</td>\n",
       "      <td>0.413</td>\n",
       "      <td>9</td>\n",
       "      <td>-7.674</td>\n",
       "      <td>1</td>\n",
       "      <td>0.0278</td>\n",
       "      <td>0.42800</td>\n",
       "      <td>0.000000</td>\n",
       "      <td>0.1260</td>\n",
       "      <td>0.211</td>\n",
       "      <td>115.936</td>\n",
       "    </tr>\n",
       "    <tr>\n",
       "      <th>1</th>\n",
       "      <td>0.663</td>\n",
       "      <td>0.168</td>\n",
       "      <td>0</td>\n",
       "      <td>-13.725</td>\n",
       "      <td>1</td>\n",
       "      <td>0.0448</td>\n",
       "      <td>0.92800</td>\n",
       "      <td>0.000057</td>\n",
       "      <td>0.3610</td>\n",
       "      <td>0.678</td>\n",
       "      <td>85.005</td>\n",
       "    </tr>\n",
       "    <tr>\n",
       "      <th>2</th>\n",
       "      <td>0.422</td>\n",
       "      <td>0.878</td>\n",
       "      <td>5</td>\n",
       "      <td>-4.863</td>\n",
       "      <td>1</td>\n",
       "      <td>0.0442</td>\n",
       "      <td>0.00935</td>\n",
       "      <td>0.332000</td>\n",
       "      <td>0.2010</td>\n",
       "      <td>0.496</td>\n",
       "      <td>84.044</td>\n",
       "    </tr>\n",
       "    <tr>\n",
       "      <th>3</th>\n",
       "      <td>0.821</td>\n",
       "      <td>0.676</td>\n",
       "      <td>3</td>\n",
       "      <td>-6.366</td>\n",
       "      <td>0</td>\n",
       "      <td>0.0547</td>\n",
       "      <td>0.18700</td>\n",
       "      <td>0.000100</td>\n",
       "      <td>0.0927</td>\n",
       "      <td>0.559</td>\n",
       "      <td>119.012</td>\n",
       "    </tr>\n",
       "    <tr>\n",
       "      <th>4</th>\n",
       "      <td>0.388</td>\n",
       "      <td>0.327</td>\n",
       "      <td>5</td>\n",
       "      <td>-12.522</td>\n",
       "      <td>1</td>\n",
       "      <td>0.0317</td>\n",
       "      <td>0.73200</td>\n",
       "      <td>0.001030</td>\n",
       "      <td>0.1500</td>\n",
       "      <td>0.222</td>\n",
       "      <td>107.894</td>\n",
       "    </tr>\n",
       "  </tbody>\n",
       "</table>\n",
       "</div>"
      ],
      "text/plain": [
       "   danceability  energy  key  loudness  mode  speechiness  acousticness  \\\n",
       "0         0.526   0.413    9    -7.674     1       0.0278       0.42800   \n",
       "1         0.663   0.168    0   -13.725     1       0.0448       0.92800   \n",
       "2         0.422   0.878    5    -4.863     1       0.0442       0.00935   \n",
       "3         0.821   0.676    3    -6.366     0       0.0547       0.18700   \n",
       "4         0.388   0.327    5   -12.522     1       0.0317       0.73200   \n",
       "\n",
       "   instrumentalness  liveness  valence    tempo  \n",
       "0          0.000000    0.1260    0.211  115.936  \n",
       "1          0.000057    0.3610    0.678   85.005  \n",
       "2          0.332000    0.2010    0.496   84.044  \n",
       "3          0.000100    0.0927    0.559  119.012  \n",
       "4          0.001030    0.1500    0.222  107.894  "
      ]
     },
     "execution_count": 3,
     "metadata": {},
     "output_type": "execute_result"
    }
   ],
   "source": [
    "features_df = overall_df.drop(['artist','tracks','uri'], axis =1)\n",
    "features_df.head()"
   ]
  },
  {
   "cell_type": "code",
   "execution_count": 4,
   "id": "511284d9",
   "metadata": {},
   "outputs": [
    {
     "data": {
      "text/plain": [
       "array([[-0.14448912, -0.95226344,  1.1193953 , ..., -0.39596108,\n",
       "        -1.17030975, -0.2607122 ],\n",
       "       [ 0.73637736, -2.0075736 , -1.44658697, ...,  1.05831626,\n",
       "         0.71252602, -1.30986901],\n",
       "       [-0.81317608,  1.05067216, -0.02104126, ...,  0.06816999,\n",
       "        -0.0212558 , -1.34246542],\n",
       "       ...,\n",
       "       [ 0.13198722, -1.15040331, -0.02104126, ...,  0.90979432,\n",
       "         1.29713242,  1.56522972],\n",
       "       [ 1.18002544,  0.55962989,  1.40450444, ...,  0.8169681 ,\n",
       "         0.7407484 ,  0.28481136],\n",
       "       [-1.54615987, -1.11163681, -0.30615041, ..., -0.14842451,\n",
       "        -1.38399347,  2.11740145]])"
      ]
     },
     "execution_count": 4,
     "metadata": {},
     "output_type": "execute_result"
    }
   ],
   "source": [
    "scaler= StandardScaler().fit(features_df)\n",
    "X_prep = scaler.transform(features_df)\n",
    "X_prep"
   ]
  },
  {
   "cell_type": "code",
   "execution_count": 5,
   "id": "6a3b17e9",
   "metadata": {},
   "outputs": [
    {
     "data": {
      "text/plain": [
       "KMeans(n_clusters=5, random_state=1234)"
      ]
     },
     "execution_count": 5,
     "metadata": {},
     "output_type": "execute_result"
    }
   ],
   "source": [
    "kmeans = KMeans(n_clusters=5, random_state=1234)\n",
    "kmeans.fit(X_prep)"
   ]
  },
  {
   "cell_type": "code",
   "execution_count": 6,
   "id": "f5d9e687",
   "metadata": {},
   "outputs": [
    {
     "data": {
      "text/plain": [
       "0    184\n",
       "1    184\n",
       "2    299\n",
       "3    105\n",
       "4     41\n",
       "dtype: int64"
      ]
     },
     "execution_count": 6,
     "metadata": {},
     "output_type": "execute_result"
    }
   ],
   "source": [
    "clusters = kmeans.predict(X_prep)\n",
    "pd.Series(clusters).value_counts().sort_index()"
   ]
  },
  {
   "cell_type": "code",
   "execution_count": 7,
   "id": "d926cddc",
   "metadata": {},
   "outputs": [
    {
     "name": "stdout",
     "output_type": "stream",
     "text": [
      "5750.007087670572\n"
     ]
    }
   ],
   "source": [
    "kmeans = KMeans(n_clusters=5,\n",
    "                init=\"random\",\n",
    "                n_init=30,  # try with 1, 4, 8, 20, 30, 100...\n",
    "                max_iter=10,\n",
    "                tol=0,\n",
    "                random_state=1234)\n",
    "kmeans.fit(X_prep)\n",
    "print(kmeans.inertia_)"
   ]
  },
  {
   "cell_type": "code",
   "execution_count": 8,
   "id": "a78ae15f",
   "metadata": {},
   "outputs": [
    {
     "data": {
      "text/plain": [
       "Text(0.5, 1.0, 'Elbow Method showing the optimal k')"
      ]
     },
     "execution_count": 8,
     "metadata": {},
     "output_type": "execute_result"
    },
    {
     "data": {
      "image/png": "[encoded data removed]",
      "text/plain": [
       "<Figure size 1152x576 with 1 Axes>"
      ]
     },
     "metadata": {
      "needs_background": "light"
     },
     "output_type": "display_data"
    }
   ],
   "source": [
    "import numpy as np\n",
    "K = range(2, 20)\n",
    "inertia = []\n",
    "\n",
    "for k in K:\n",
    "    kmeans = KMeans(n_clusters=k,\n",
    "                    random_state=1234)\n",
    "    kmeans.fit(X_prep)\n",
    "    inertia.append(kmeans.inertia_)\n",
    "\n",
    "import matplotlib.pyplot as plt\n",
    "%matplotlib inline\n",
    "\n",
    "plt.figure(figsize=(16,8))\n",
    "plt.plot(K, inertia, 'bx-')\n",
    "plt.xlabel('k')\n",
    "plt.ylabel('inertia')\n",
    "plt.xticks(np.arange(min(K), max(K)+1, 1.0))\n",
    "plt.title('Elbow Method showing the optimal k')"
   ]
  },
  {
   "cell_type": "code",
   "execution_count": 9,
   "id": "d5ba55f9",
   "metadata": {},
   "outputs": [
    {
     "data": {
      "text/plain": [
       "Text(0.5, 1.0, 'Elbow Method showing the optimal k')"
      ]
     },
     "execution_count": 9,
     "metadata": {},
     "output_type": "execute_result"
    },
    {
     "data": {
      "image/png": "[encoded data removed]",
      "text/plain": [
       "<Figure size 1152x576 with 1 Axes>"
      ]
     },
     "metadata": {
      "needs_background": "light"
     },
     "output_type": "display_data"
    }
   ],
   "source": [
    "from sklearn.metrics import silhouette_score\n",
    "K = range(2, 20)\n",
    "silhouette = []\n",
    "\n",
    "for k in K:\n",
    "    kmeans = KMeans(n_clusters=k,\n",
    "                    random_state=1234)\n",
    "    kmeans.fit(X_prep)\n",
    "    silhouette.append(silhouette_score(X_prep, kmeans.predict(X_prep)))\n",
    "\n",
    "\n",
    "plt.figure(figsize=(16,8))\n",
    "plt.plot(K, silhouette, 'bx-')\n",
    "plt.xlabel('k')\n",
    "plt.ylabel('silhouette score')\n",
    "plt.xticks(np.arange(min(K), max(K)+1, 1.0))\n",
    "plt.title('Elbow Method showing the optimal k')"
   ]
  },
  {
   "cell_type": "code",
   "execution_count": 10,
   "id": "fae57f73",
   "metadata": {},
   "outputs": [],
   "source": [
    "from sklearn import cluster"
   ]
  },
  {
   "cell_type": "code",
   "execution_count": 11,
   "id": "615bdd9d",
   "metadata": {},
   "outputs": [
    {
     "data": {
      "image/png": "[encoded data removed]",
      "text/plain": [
       "<Figure size 360x360 with 1 Axes>"
      ]
     },
     "metadata": {
      "needs_background": "light"
     },
     "output_type": "display_data"
    }
   ],
   "source": [
    "# ward linkage tends to produce relatively equally sized clusters\n",
    "agglomerative = cluster.AgglomerativeClustering(n_clusters=5,linkage='ward')\n",
    "pred = agglomerative.fit_predict(X_prep)\n",
    "\n",
    "plt.figure(figsize=(5, 5))\n",
    "plt.scatter(X_prep[:, 0], X_prep[:, 1], c=pred,alpha=0.5)\n",
    "plt.show()"
   ]
  },
  {
   "cell_type": "code",
   "execution_count": 12,
   "id": "387e5d7e",
   "metadata": {},
   "outputs": [
    {
     "data": {
      "image/png": "[encoded data removed]",
      "text/plain": [
       "<Figure size 360x360 with 1 Axes>"
      ]
     },
     "metadata": {
      "needs_background": "light"
     },
     "output_type": "display_data"
    }
   ],
   "source": [
    "# ward linkage tends to produce relatively equally sized clusters\n",
    "agglomerative = cluster.AgglomerativeClustering(n_clusters=3,linkage='complete')\n",
    "pred = agglomerative.fit_predict(X_prep)\n",
    "\n",
    "plt.figure(figsize=(5, 5))\n",
    "plt.scatter(X_prep[:, 0], X_prep[:, 1], c=pred,alpha=0.5)\n",
    "plt.show()"
   ]
  },
  {
   "cell_type": "code",
   "execution_count": 13,
   "id": "ff0af95a",
   "metadata": {},
   "outputs": [
    {
     "data": {
      "text/html": [
       "<div>\n",
       "<style scoped>\n",
       "    .dataframe tbody tr th:only-of-type {\n",
       "        vertical-align: middle;\n",
       "    }\n",
       "\n",
       "    .dataframe tbody tr th {\n",
       "        vertical-align: top;\n",
       "    }\n",
       "\n",
       "    .dataframe thead th {\n",
       "        text-align: right;\n",
       "    }\n",
       "</style>\n",
       "<table border=\"1\" class=\"dataframe\">\n",
       "  <thead>\n",
       "    <tr style=\"text-align: right;\">\n",
       "      <th></th>\n",
       "      <th>artist</th>\n",
       "      <th>tracks</th>\n",
       "      <th>uri</th>\n",
       "      <th>danceability</th>\n",
       "      <th>energy</th>\n",
       "      <th>key</th>\n",
       "      <th>loudness</th>\n",
       "      <th>mode</th>\n",
       "      <th>speechiness</th>\n",
       "      <th>acousticness</th>\n",
       "      <th>instrumentalness</th>\n",
       "      <th>liveness</th>\n",
       "      <th>valence</th>\n",
       "      <th>tempo</th>\n",
       "      <th>cluster_id</th>\n",
       "    </tr>\n",
       "  </thead>\n",
       "  <tbody>\n",
       "    <tr>\n",
       "      <th>0</th>\n",
       "      <td>The Muppets</td>\n",
       "      <td>Rainbow Connection</td>\n",
       "      <td>spotify:track:1SJ4ycWow4yz6z4oFz8NAG</td>\n",
       "      <td>0.526</td>\n",
       "      <td>0.413</td>\n",
       "      <td>9</td>\n",
       "      <td>-7.674</td>\n",
       "      <td>1</td>\n",
       "      <td>0.0278</td>\n",
       "      <td>0.42800</td>\n",
       "      <td>0.000000</td>\n",
       "      <td>0.1260</td>\n",
       "      <td>0.211</td>\n",
       "      <td>115.936</td>\n",
       "      <td>1</td>\n",
       "    </tr>\n",
       "    <tr>\n",
       "      <th>1</th>\n",
       "      <td>Israel Kamakawiwo'ole</td>\n",
       "      <td>Somewhere Over The Rainbow_What A Wonderful World</td>\n",
       "      <td>spotify:track:25U7raB3ZSszayTYClh4hF</td>\n",
       "      <td>0.663</td>\n",
       "      <td>0.168</td>\n",
       "      <td>0</td>\n",
       "      <td>-13.725</td>\n",
       "      <td>1</td>\n",
       "      <td>0.0448</td>\n",
       "      <td>0.92800</td>\n",
       "      <td>0.000057</td>\n",
       "      <td>0.3610</td>\n",
       "      <td>0.678</td>\n",
       "      <td>85.005</td>\n",
       "      <td>1</td>\n",
       "    </tr>\n",
       "    <tr>\n",
       "      <th>2</th>\n",
       "      <td>Joey Ramone</td>\n",
       "      <td>What a Wonderful World</td>\n",
       "      <td>spotify:track:04cdEVbQPb8BJb7593e5fO</td>\n",
       "      <td>0.422</td>\n",
       "      <td>0.878</td>\n",
       "      <td>5</td>\n",
       "      <td>-4.863</td>\n",
       "      <td>1</td>\n",
       "      <td>0.0442</td>\n",
       "      <td>0.00935</td>\n",
       "      <td>0.332000</td>\n",
       "      <td>0.2010</td>\n",
       "      <td>0.496</td>\n",
       "      <td>84.044</td>\n",
       "      <td>2</td>\n",
       "    </tr>\n",
       "    <tr>\n",
       "      <th>3</th>\n",
       "      <td>Asaf Avidan &amp; the Mojos</td>\n",
       "      <td>One Day / Reckoning Song (Wankelmut Remix) [Ra...</td>\n",
       "      <td>spotify:track:5HSkycOEtb9iQ7cg1Oyqmu</td>\n",
       "      <td>0.821</td>\n",
       "      <td>0.676</td>\n",
       "      <td>3</td>\n",
       "      <td>-6.366</td>\n",
       "      <td>0</td>\n",
       "      <td>0.0547</td>\n",
       "      <td>0.18700</td>\n",
       "      <td>0.000100</td>\n",
       "      <td>0.0927</td>\n",
       "      <td>0.559</td>\n",
       "      <td>119.012</td>\n",
       "      <td>0</td>\n",
       "    </tr>\n",
       "    <tr>\n",
       "      <th>4</th>\n",
       "      <td>Louis Armstrong</td>\n",
       "      <td>What A Wonderful World - Single Version</td>\n",
       "      <td>spotify:track:2pp3RfqX5cb1BAnmNi4Nej</td>\n",
       "      <td>0.388</td>\n",
       "      <td>0.327</td>\n",
       "      <td>5</td>\n",
       "      <td>-12.522</td>\n",
       "      <td>1</td>\n",
       "      <td>0.0317</td>\n",
       "      <td>0.73200</td>\n",
       "      <td>0.001030</td>\n",
       "      <td>0.1500</td>\n",
       "      <td>0.222</td>\n",
       "      <td>107.894</td>\n",
       "      <td>1</td>\n",
       "    </tr>\n",
       "  </tbody>\n",
       "</table>\n",
       "</div>"
      ],
      "text/plain": [
       "                    artist                                             tracks  \\\n",
       "0              The Muppets                                 Rainbow Connection   \n",
       "1    Israel Kamakawiwo'ole  Somewhere Over The Rainbow_What A Wonderful World   \n",
       "2              Joey Ramone                             What a Wonderful World   \n",
       "3  Asaf Avidan & the Mojos  One Day / Reckoning Song (Wankelmut Remix) [Ra...   \n",
       "4          Louis Armstrong            What A Wonderful World - Single Version   \n",
       "\n",
       "                                    uri  danceability  energy  key  loudness  \\\n",
       "0  spotify:track:1SJ4ycWow4yz6z4oFz8NAG         0.526   0.413    9    -7.674   \n",
       "1  spotify:track:25U7raB3ZSszayTYClh4hF         0.663   0.168    0   -13.725   \n",
       "2  spotify:track:04cdEVbQPb8BJb7593e5fO         0.422   0.878    5    -4.863   \n",
       "3  spotify:track:5HSkycOEtb9iQ7cg1Oyqmu         0.821   0.676    3    -6.366   \n",
       "4  spotify:track:2pp3RfqX5cb1BAnmNi4Nej         0.388   0.327    5   -12.522   \n",
       "\n",
       "   mode  speechiness  acousticness  instrumentalness  liveness  valence  \\\n",
       "0     1       0.0278       0.42800          0.000000    0.1260    0.211   \n",
       "1     1       0.0448       0.92800          0.000057    0.3610    0.678   \n",
       "2     1       0.0442       0.00935          0.332000    0.2010    0.496   \n",
       "3     0       0.0547       0.18700          0.000100    0.0927    0.559   \n",
       "4     1       0.0317       0.73200          0.001030    0.1500    0.222   \n",
       "\n",
       "     tempo  cluster_id  \n",
       "0  115.936           1  \n",
       "1   85.005           1  \n",
       "2   84.044           2  \n",
       "3  119.012           0  \n",
       "4  107.894           1  "
      ]
     },
     "execution_count": 13,
     "metadata": {},
     "output_type": "execute_result"
    }
   ],
   "source": [
    "df_with_cluster = pd.concat([overall_df[['artist','tracks','uri']],features_df,pd.Series(clusters)], axis =1)\n",
    "df_with_cluster = df_with_cluster.rename(columns={0:'cluster_id'})\n",
    "df_with_cluster.head()\n",
    "#df.rename(columns={\"A\": \"a\", \"B\": \"c\"})"
   ]
  },
  {
   "cell_type": "code",
   "execution_count": 14,
   "id": "8e8728ca",
   "metadata": {},
   "outputs": [
    {
     "data": {
      "text/plain": [
       "2    299\n",
       "1    184\n",
       "0    184\n",
       "3    105\n",
       "4     41\n",
       "Name: cluster_id, dtype: int64"
      ]
     },
     "execution_count": 14,
     "metadata": {},
     "output_type": "execute_result"
    }
   ],
   "source": [
    "df_with_cluster['cluster_id'].value_counts()"
   ]
  },
  {
   "cell_type": "markdown",
   "id": "2c60dcc5",
   "metadata": {},
   "source": [
    "## Already made the scaler transformer. Re-using it"
   ]
  },
  {
   "cell_type": "code",
   "execution_count": 15,
   "id": "8da3828e",
   "metadata": {},
   "outputs": [
    {
     "data": {
      "text/plain": [
       "numpy.ndarray"
      ]
     },
     "execution_count": 15,
     "metadata": {},
     "output_type": "execute_result"
    }
   ],
   "source": [
    "type(X_prep)"
   ]
  },
  {
   "cell_type": "code",
   "execution_count": 16,
   "id": "9fc5ef19",
   "metadata": {},
   "outputs": [
    {
     "name": "stdout",
     "output_type": "stream",
     "text": [
      "5750.007087670572\n"
     ]
    }
   ],
   "source": [
    "kmeans = KMeans(n_clusters=5,\n",
    "                init=\"random\",\n",
    "                n_init=30,  # try with 1, 4, 8, 20, 30, 100...\n",
    "                max_iter=10,\n",
    "                tol=0,\n",
    "                random_state=1234)\n",
    "kmeans.fit(X_prep)\n",
    "print(kmeans.inertia_)"
   ]
  },
  {
   "cell_type": "code",
   "execution_count": 17,
   "id": "2ccb4bd7",
   "metadata": {},
   "outputs": [],
   "source": [
    "\n",
    "# kmeans.fit_predict()\n",
    "# pred = agglomerative.fit_predict(X_prep)\n",
    "# X_prep = scaler.transform(features_df)\n",
    "# X_prep"
   ]
  },
  {
   "cell_type": "code",
   "execution_count": 18,
   "id": "f037ce08",
   "metadata": {},
   "outputs": [
    {
     "data": {
      "text/html": [
       "<div>\n",
       "<style scoped>\n",
       "    .dataframe tbody tr th:only-of-type {\n",
       "        vertical-align: middle;\n",
       "    }\n",
       "\n",
       "    .dataframe tbody tr th {\n",
       "        vertical-align: top;\n",
       "    }\n",
       "\n",
       "    .dataframe thead th {\n",
       "        text-align: right;\n",
       "    }\n",
       "</style>\n",
       "<table border=\"1\" class=\"dataframe\">\n",
       "  <thead>\n",
       "    <tr style=\"text-align: right;\">\n",
       "      <th></th>\n",
       "      <th>artist</th>\n",
       "      <th>tracks</th>\n",
       "      <th>uri</th>\n",
       "      <th>danceability</th>\n",
       "      <th>energy</th>\n",
       "      <th>key</th>\n",
       "      <th>loudness</th>\n",
       "      <th>mode</th>\n",
       "      <th>speechiness</th>\n",
       "      <th>acousticness</th>\n",
       "      <th>instrumentalness</th>\n",
       "      <th>liveness</th>\n",
       "      <th>valence</th>\n",
       "      <th>tempo</th>\n",
       "      <th>cluster_id</th>\n",
       "    </tr>\n",
       "  </thead>\n",
       "  <tbody>\n",
       "    <tr>\n",
       "      <th>2</th>\n",
       "      <td>Joey Ramone</td>\n",
       "      <td>What a Wonderful World</td>\n",
       "      <td>spotify:track:04cdEVbQPb8BJb7593e5fO</td>\n",
       "      <td>0.422</td>\n",
       "      <td>0.878</td>\n",
       "      <td>5</td>\n",
       "      <td>-4.863</td>\n",
       "      <td>1</td>\n",
       "      <td>0.0442</td>\n",
       "      <td>0.00935</td>\n",
       "      <td>0.332</td>\n",
       "      <td>0.201</td>\n",
       "      <td>0.496</td>\n",
       "      <td>84.044</td>\n",
       "      <td>2</td>\n",
       "    </tr>\n",
       "  </tbody>\n",
       "</table>\n",
       "</div>"
      ],
      "text/plain": [
       "        artist                  tracks                                   uri  \\\n",
       "2  Joey Ramone  What a Wonderful World  spotify:track:04cdEVbQPb8BJb7593e5fO   \n",
       "\n",
       "   danceability  energy  key  loudness  mode  speechiness  acousticness  \\\n",
       "2         0.422   0.878    5    -4.863     1       0.0442       0.00935   \n",
       "\n",
       "   instrumentalness  liveness  valence   tempo  cluster_id  \n",
       "2             0.332     0.201    0.496  84.044           2  "
      ]
     },
     "execution_count": 18,
     "metadata": {},
     "output_type": "execute_result"
    }
   ],
   "source": [
    "song_features = df_with_cluster[df_with_cluster['tracks'] == 'What a Wonderful World']\n",
    "song_features"
   ]
  },
  {
   "cell_type": "code",
   "execution_count": 19,
   "id": "4c47ccd0",
   "metadata": {},
   "outputs": [],
   "source": [
    "# song_features = song_features.rename(columns = {0:'clusters'})\n",
    "# song_features.head()"
   ]
  },
  {
   "cell_type": "code",
   "execution_count": 20,
   "id": "733e01ad",
   "metadata": {},
   "outputs": [
    {
     "data": {
      "text/plain": [
       "Index(['danceability', 'energy', 'key', 'loudness', 'mode', 'speechiness',\n",
       "       'acousticness', 'instrumentalness', 'liveness', 'valence', 'tempo'],\n",
       "      dtype='object')"
      ]
     },
     "execution_count": 20,
     "metadata": {},
     "output_type": "execute_result"
    }
   ],
   "source": [
    "song_features = song_features.drop(['artist', 'tracks','uri','cluster_id'], axis = 1)\n",
    "song_features.columns\n"
   ]
  },
  {
   "cell_type": "code",
   "execution_count": 21,
   "id": "af168a02",
   "metadata": {},
   "outputs": [
    {
     "data": {
      "text/plain": [
       "array([[-0.81317608,  1.05067216, -0.02104126,  0.84199292,  0.67987515,\n",
       "        -0.30077905, -0.86137294,  1.59694352,  0.06816999, -0.0212558 ,\n",
       "        -1.34246542]])"
      ]
     },
     "execution_count": 21,
     "metadata": {},
     "output_type": "execute_result"
    }
   ],
   "source": [
    "X_prep = scaler.transform(song_features)\n",
    "X_prep"
   ]
  },
  {
   "cell_type": "code",
   "execution_count": null,
   "id": "30df1900",
   "metadata": {},
   "outputs": [],
   "source": []
  },
  {
   "cell_type": "code",
   "execution_count": 23,
   "id": "2735d745",
   "metadata": {},
   "outputs": [
    {
     "data": {
      "text/plain": [
       "array([2])"
      ]
     },
     "execution_count": 23,
     "metadata": {},
     "output_type": "execute_result"
    }
   ],
   "source": [
    "y1_pred = kmeans.predict(X_prep)\n",
    "y1_pred"
   ]
  },
  {
   "cell_type": "code",
   "execution_count": 78,
   "id": "ea953b01",
   "metadata": {},
   "outputs": [],
   "source": [
    "hot_100 = ['Easy On Me', 'Stay', 'Industry Baby', 'Bad Habits', 'Shivers', 'One Right Now', 'Fancy Like', \n",
    "'Smokin Out The Window', 'Need To Know', 'Heat Waves', 'Escape Plan', 'Way 2 Sexy', 'No Love', \n",
    "'Cold Heart (PNAU Remix)', 'Good 4 U', 'Essence', \"Beggin'\", 'Levitating', 'You Right', 'Kiss Me More',\n",
    "\"If I Didn't Love You\", 'Save Your Tears', 'Knife Talk', 'Chasing After You', 'Bitter', 'Mafia',\n",
    "'Meet Me At Our Spot', 'Girls Want Girls', 'Better Days', 'Buy Dirt', 'Happier Than Ever', \n",
    "'Love Nwantiti (Ah Ah Ah)', 'Ex For A Reason', 'Traitor', 'Who Want Smoke??', 'Ghost', 'Pepas', \n",
    "'Thats What I Want', 'Cold As You', \"Thinking 'Bout You\", 'Throw It Away', 'Montero (Call Me By Your Name)', \n",
    "'My Universe', 'Reciprocate', 'Toxic', 'Leave The Door Open', 'You Should Probably Leave', 'Unloyal', 'Constant Bulls**t', \"You Don't Know Me\", 'Same Boat', 'Insane', 'Wild Side', 'Circus', 'Have Mercy', '4th Baby Mama', 'Family Ties', 'Gyalis', 'Switch A N*gga Out', 'Closure', 'Chosen', 'Sharing Locations', 'One Mississippi', 'I Was On A Boat That Day', 'Memory', 'Fair Trade', 'Knowing You', 'Session 33', 'Sand In My Boots', 'Take My Breath', 'Moth To A Flame', 'A-O-K', 'Screwin', 'Bubbly', 'Whiskey And Rain', 'Broken Promises', 'Dat Right There', 'Tequila Little Time', \"Memory I Don't Mess With\", 'Sad Girlz Luv Money', 'Slow Down Summer', \"'Til You Can't\", 'Woman', 'Freedom Was A Highway', 'Overpass Graffiti', 'Big Energy', 'Hurricane', 'Cold Beer Calling My Name', 'Jumpin', 'Baddest', 'Jugaste y Sufri', 'For Tonight', 'Maybach', 'Too Easy', 'Volvi', 'Praise God', 'Super Gremlin', 'Poke It Out', 'Half Of My Hometown', '2055']"
   ]
  },
  {
   "cell_type": "markdown",
   "id": "f3723d30",
   "metadata": {},
   "source": [
    "## GETTING SPORTIFY FEATURES FOR A SONG"
   ]
  },
  {
   "cell_type": "code",
   "execution_count": 72,
   "id": "700e1ad8",
   "metadata": {},
   "outputs": [],
   "source": [
    "#result['tracks']['items'].keys()"
   ]
  },
  {
   "cell_type": "code",
   "execution_count": 88,
   "id": "6607e550",
   "metadata": {},
   "outputs": [
    {
     "name": "stdout",
     "output_type": "stream",
     "text": [
      "ENTER A SONG: Rainbow Connection\n",
      "ENTER ARTIST'S NAME: the muppets\n"
     ]
    }
   ],
   "source": [
    "song = input(\"ENTER A SONG: \").lower()\n",
    "artist = input(\"ENTER ARTIST'S NAME: \").lower()"
   ]
  },
  {
   "cell_type": "code",
   "execution_count": 90,
   "id": "5a14fdeb",
   "metadata": {},
   "outputs": [
    {
     "name": "stdout",
     "output_type": "stream",
     "text": [
      "The Muppets\n",
      "Rainbow Connection\n",
      "spotify:track:1SJ4ycWow4yz6z4oFz8NAG\n"
     ]
    }
   ],
   "source": [
    "import random\n",
    "songs = [x.lower() for x in hot_100]\n",
    "songs\n",
    "if song in songs:\n",
    "    print(\"Song is Lit \")\n",
    "    new_list = songs.remove(song)\n",
    "    print(\"I Recommend: \", random.choice(new_list))\n",
    "        \n",
    "else: \n",
    "    result = sp.search(artist + ' ' + song, limit=1)\n",
    "    features = sp.audio_features(result['tracks']['items'][0]['uri'])\n",
    "    return_df = pd.DataFrame(features)\n",
    "    return_df = return_df.select_dtypes(np.number)\n",
    "    return_df = return_df.drop(['duration_ms','time_signature'], axis =1)\n",
    "    X_prep = scaler.transform(return_df)\n",
    "    y1_pred = kmeans.predict(X_prep)\n",
    "    #final_df1 = df_with_cluster[df_with_cluster['cluster_id'] == y1_pred]\n",
    "    \n",
    "    \n",
    "#     print(result['tracks']['items'][0]['artists'][0]['name'])\n",
    "#     print(result['tracks']['items'][0]['name'])\n",
    "#     print(result['tracks']['items'][0]['uri'])\n",
    "    #search(artist + ' ' + song, limit=1)\n"
   ]
  },
  {
   "cell_type": "code",
   "execution_count": 92,
   "id": "f0e9e5ee",
   "metadata": {},
   "outputs": [
    {
     "data": {
      "text/plain": [
       "{'danceability': 0.526,\n",
       " 'energy': 0.413,\n",
       " 'key': 9,\n",
       " 'loudness': -7.674,\n",
       " 'mode': 1,\n",
       " 'speechiness': 0.0278,\n",
       " 'acousticness': 0.428,\n",
       " 'instrumentalness': 0,\n",
       " 'liveness': 0.126,\n",
       " 'valence': 0.211,\n",
       " 'tempo': 115.936,\n",
       " 'type': 'audio_features',\n",
       " 'id': '1SJ4ycWow4yz6z4oFz8NAG',\n",
       " 'uri': 'spotify:track:1SJ4ycWow4yz6z4oFz8NAG',\n",
       " 'track_href': 'https://api.spotify.com/v1/tracks/1SJ4ycWow4yz6z4oFz8NAG',\n",
       " 'analysis_url': 'https://api.spotify.com/v1/audio-analysis/1SJ4ycWow4yz6z4oFz8NAG',\n",
       " 'duration_ms': 188933,\n",
       " 'time_signature': 3}"
      ]
     },
     "execution_count": 92,
     "metadata": {},
     "output_type": "execute_result"
    }
   ],
   "source": [
    "features = sp.audio_features(result['tracks']['items'][0]['uri'])\n",
    "features[0]"
   ]
  },
  {
   "cell_type": "code",
   "execution_count": 96,
   "id": "5f09ca7c",
   "metadata": {},
   "outputs": [
    {
     "data": {
      "text/html": [
       "<div>\n",
       "<style scoped>\n",
       "    .dataframe tbody tr th:only-of-type {\n",
       "        vertical-align: middle;\n",
       "    }\n",
       "\n",
       "    .dataframe tbody tr th {\n",
       "        vertical-align: top;\n",
       "    }\n",
       "\n",
       "    .dataframe thead th {\n",
       "        text-align: right;\n",
       "    }\n",
       "</style>\n",
       "<table border=\"1\" class=\"dataframe\">\n",
       "  <thead>\n",
       "    <tr style=\"text-align: right;\">\n",
       "      <th></th>\n",
       "      <th>danceability</th>\n",
       "      <th>energy</th>\n",
       "      <th>key</th>\n",
       "      <th>loudness</th>\n",
       "      <th>mode</th>\n",
       "      <th>speechiness</th>\n",
       "      <th>acousticness</th>\n",
       "      <th>instrumentalness</th>\n",
       "      <th>liveness</th>\n",
       "      <th>valence</th>\n",
       "      <th>tempo</th>\n",
       "      <th>duration_ms</th>\n",
       "      <th>time_signature</th>\n",
       "    </tr>\n",
       "  </thead>\n",
       "  <tbody>\n",
       "    <tr>\n",
       "      <th>0</th>\n",
       "      <td>0.526</td>\n",
       "      <td>0.413</td>\n",
       "      <td>9</td>\n",
       "      <td>-7.674</td>\n",
       "      <td>1</td>\n",
       "      <td>0.0278</td>\n",
       "      <td>0.428</td>\n",
       "      <td>0</td>\n",
       "      <td>0.126</td>\n",
       "      <td>0.211</td>\n",
       "      <td>115.936</td>\n",
       "      <td>188933</td>\n",
       "      <td>3</td>\n",
       "    </tr>\n",
       "  </tbody>\n",
       "</table>\n",
       "</div>"
      ],
      "text/plain": [
       "   danceability  energy  key  loudness  mode  speechiness  acousticness  \\\n",
       "0         0.526   0.413    9    -7.674     1       0.0278         0.428   \n",
       "\n",
       "   instrumentalness  liveness  valence    tempo  duration_ms  time_signature  \n",
       "0                 0     0.126    0.211  115.936       188933               3  "
      ]
     },
     "execution_count": 96,
     "metadata": {},
     "output_type": "execute_result"
    }
   ],
   "source": [
    "return_df = pd.DataFrame(features)\n",
    "return_df = return_df.select_dtypes(np.number)\n",
    "return_df"
   ]
  },
  {
   "cell_type": "code",
   "execution_count": 97,
   "id": "56d18e66",
   "metadata": {},
   "outputs": [
    {
     "data": {
      "text/html": [
       "<div>\n",
       "<style scoped>\n",
       "    .dataframe tbody tr th:only-of-type {\n",
       "        vertical-align: middle;\n",
       "    }\n",
       "\n",
       "    .dataframe tbody tr th {\n",
       "        vertical-align: top;\n",
       "    }\n",
       "\n",
       "    .dataframe thead th {\n",
       "        text-align: right;\n",
       "    }\n",
       "</style>\n",
       "<table border=\"1\" class=\"dataframe\">\n",
       "  <thead>\n",
       "    <tr style=\"text-align: right;\">\n",
       "      <th></th>\n",
       "      <th>danceability</th>\n",
       "      <th>energy</th>\n",
       "      <th>key</th>\n",
       "      <th>loudness</th>\n",
       "      <th>mode</th>\n",
       "      <th>speechiness</th>\n",
       "      <th>acousticness</th>\n",
       "      <th>instrumentalness</th>\n",
       "      <th>liveness</th>\n",
       "      <th>valence</th>\n",
       "      <th>tempo</th>\n",
       "    </tr>\n",
       "  </thead>\n",
       "  <tbody>\n",
       "    <tr>\n",
       "      <th>0</th>\n",
       "      <td>0.526</td>\n",
       "      <td>0.413</td>\n",
       "      <td>9</td>\n",
       "      <td>-7.674</td>\n",
       "      <td>1</td>\n",
       "      <td>0.0278</td>\n",
       "      <td>0.428</td>\n",
       "      <td>0</td>\n",
       "      <td>0.126</td>\n",
       "      <td>0.211</td>\n",
       "      <td>115.936</td>\n",
       "    </tr>\n",
       "  </tbody>\n",
       "</table>\n",
       "</div>"
      ],
      "text/plain": [
       "   danceability  energy  key  loudness  mode  speechiness  acousticness  \\\n",
       "0         0.526   0.413    9    -7.674     1       0.0278         0.428   \n",
       "\n",
       "   instrumentalness  liveness  valence    tempo  \n",
       "0                 0     0.126    0.211  115.936  "
      ]
     },
     "execution_count": 97,
     "metadata": {},
     "output_type": "execute_result"
    }
   ],
   "source": [
    "return_df = return_df.drop(['duration_ms','time_signature'], axis =1)\n",
    "return_df"
   ]
  },
  {
   "cell_type": "code",
   "execution_count": 98,
   "id": "d45754a9",
   "metadata": {},
   "outputs": [],
   "source": [
    "# artist = 'Joey Ramone'\n",
    "# song = 'What a Wonderful World'\n",
    "# result = sp.search(artist + ' ' + song, limit=1)\n",
    "# result"
   ]
  },
  {
   "cell_type": "code",
   "execution_count": 99,
   "id": "4f3ff674",
   "metadata": {},
   "outputs": [
    {
     "data": {
      "text/plain": [
       "array([[-0.14448912, -0.95226344,  1.1193953 ,  0.05908954,  0.67987515,\n",
       "        -0.60227718,  0.56845119, -0.30021005, -0.39596108, -1.17030975,\n",
       "        -0.2607122 ]])"
      ]
     },
     "execution_count": 99,
     "metadata": {},
     "output_type": "execute_result"
    }
   ],
   "source": [
    "X_prep = scaler.transform(return_df)\n",
    "X_prep"
   ]
  },
  {
   "cell_type": "code",
   "execution_count": 100,
   "id": "b6cc7ca8",
   "metadata": {},
   "outputs": [
    {
     "data": {
      "text/plain": [
       "array([0])"
      ]
     },
     "execution_count": 100,
     "metadata": {},
     "output_type": "execute_result"
    }
   ],
   "source": [
    "y1_pred = kmeans.predict(X_prep)\n",
    "y1_pred"
   ]
  },
  {
   "cell_type": "code",
   "execution_count": null,
   "id": "faee3c7f",
   "metadata": {},
   "outputs": [],
   "source": []
  }
 ],
 "metadata": {
  "kernelspec": {
   "display_name": "Python 3 (ipykernel)",
   "language": "python",
   "name": "python3"
  },
  "language_info": {
   "codemirror_mode": {
    "name": "ipython",
    "version": 3
   },
   "file_extension": ".py",
   "mimetype": "text/x-python",
   "name": "python",
   "nbconvert_exporter": "python",
   "pygments_lexer": "ipython3",
   "version": "3.8.11"
  }
 },
 "nbformat": 4,
 "nbformat_minor": 5
}
