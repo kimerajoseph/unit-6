{
 "cells": [
  {
   "cell_type": "code",
   "execution_count": 1,
   "id": "7705988b",
   "metadata": {},
   "outputs": [],
   "source": [
    "from bs4 import BeautifulSoup\n",
    "import requests\n",
    "from time import sleep\n",
    "from random import randint"
   ]
  },
  {
   "cell_type": "markdown",
   "id": "0fb9ff40",
   "metadata": {},
   "source": [
    "### We are scrapping the top 100 songs from https://playback.fm/charts/top-100-songs from 2010 - 2016"
   ]
  },
  {
   "cell_type": "code",
   "execution_count": 2,
   "id": "11dfcbc5",
   "metadata": {},
   "outputs": [
    {
     "name": "stdout",
     "output_type": "stream",
     "text": [
      "https://playback.fm/charts/top-100-songs/2010\n",
      "https://playback.fm/charts/top-100-songs/2011\n",
      "https://playback.fm/charts/top-100-songs/2012\n",
      "https://playback.fm/charts/top-100-songs/2013\n",
      "https://playback.fm/charts/top-100-songs/2014\n",
      "https://playback.fm/charts/top-100-songs/2015\n",
      "https://playback.fm/charts/top-100-songs/2016\n"
     ]
    }
   ],
   "source": [
    "iterations = range(2010, 2017, 1)\n",
    "pages = []\n",
    "for i in iterations:\n",
    "    start_at= str(i)\n",
    "    url = \"https://playback.fm/charts/top-100-songs/\"+ start_at +\"\"\n",
    "    print(url)\n",
    "    response = requests.get(url)\n",
    "    sleep_time = randint(0,5)\n",
    "    sleep(sleep_time)\n",
    "    pages.append(response)\n",
    "    \n",
    "#pages"
   ]
  },
  {
   "cell_type": "code",
   "execution_count": 3,
   "id": "d6217acc",
   "metadata": {},
   "outputs": [
    {
     "name": "stdout",
     "output_type": "stream",
     "text": [
      "698\n",
      "698\n"
     ]
    }
   ],
   "source": [
    "scrapped_pages,artists,songs  = [],[],[]\n",
    "for i in range(0,len(pages)):\n",
    "    soup = BeautifulSoup(pages[i].content, 'html.parser')\n",
    "    \n",
    "    for i in range(0,len(soup.select(\"a.artist\"))):\n",
    "        artists.append(soup.select(\"a.artist\")[i].getText().strip())\n",
    "        songs.append(soup.select(\"td.mobile-hide >a > span.song\")[i].getText())\n",
    "#print(artists)\n",
    "print(len(artists))\n",
    "#     for i in range(0,len(soup.select(\"td.mobile-hide\"))):\n",
    "#         songs.append(soup.select(\"td.mobile-hide >a > span.song\")[i].getText())\n",
    "\n",
    "#print(songs)\n",
    "print(len(songs))\n",
    "\n"
   ]
  },
  {
   "cell_type": "code",
   "execution_count": 4,
   "id": "7dadc818",
   "metadata": {},
   "outputs": [
    {
     "data": {
      "text/html": [
       "<div>\n",
       "<style scoped>\n",
       "    .dataframe tbody tr th:only-of-type {\n",
       "        vertical-align: middle;\n",
       "    }\n",
       "\n",
       "    .dataframe tbody tr th {\n",
       "        vertical-align: top;\n",
       "    }\n",
       "\n",
       "    .dataframe thead th {\n",
       "        text-align: right;\n",
       "    }\n",
       "</style>\n",
       "<table border=\"1\" class=\"dataframe\">\n",
       "  <thead>\n",
       "    <tr style=\"text-align: right;\">\n",
       "      <th></th>\n",
       "      <th>Artist</th>\n",
       "      <th>Song_Title</th>\n",
       "    </tr>\n",
       "  </thead>\n",
       "  <tbody>\n",
       "    <tr>\n",
       "      <th>0</th>\n",
       "      <td>Eminem &amp; Rihanna</td>\n",
       "      <td>Love The Way You Lie</td>\n",
       "    </tr>\n",
       "    <tr>\n",
       "      <th>1</th>\n",
       "      <td>Bruno Mars</td>\n",
       "      <td>Just the Way You Are</td>\n",
       "    </tr>\n",
       "    <tr>\n",
       "      <th>2</th>\n",
       "      <td>Katy Perry &amp; Snoop Dogg</td>\n",
       "      <td>California Gurls</td>\n",
       "    </tr>\n",
       "    <tr>\n",
       "      <th>3</th>\n",
       "      <td>Katy Perry</td>\n",
       "      <td>Firework</td>\n",
       "    </tr>\n",
       "    <tr>\n",
       "      <th>4</th>\n",
       "      <td>Rihanna</td>\n",
       "      <td>Only girl (in the world)</td>\n",
       "    </tr>\n",
       "    <tr>\n",
       "      <th>...</th>\n",
       "      <td>...</td>\n",
       "      <td>...</td>\n",
       "    </tr>\n",
       "    <tr>\n",
       "      <th>693</th>\n",
       "      <td>J Balvin</td>\n",
       "      <td>Ginza</td>\n",
       "    </tr>\n",
       "    <tr>\n",
       "      <th>694</th>\n",
       "      <td>Hozier</td>\n",
       "      <td>Take Me To Church</td>\n",
       "    </tr>\n",
       "    <tr>\n",
       "      <th>695</th>\n",
       "      <td>Joey Montana</td>\n",
       "      <td>Picky</td>\n",
       "    </tr>\n",
       "    <tr>\n",
       "      <th>696</th>\n",
       "      <td>Yo Gotti</td>\n",
       "      <td>Down In the DM</td>\n",
       "    </tr>\n",
       "    <tr>\n",
       "      <th>697</th>\n",
       "      <td>Nelly</td>\n",
       "      <td>The Fix</td>\n",
       "    </tr>\n",
       "  </tbody>\n",
       "</table>\n",
       "<p>698 rows × 2 columns</p>\n",
       "</div>"
      ],
      "text/plain": [
       "                      Artist                Song_Title\n",
       "0           Eminem & Rihanna      Love The Way You Lie\n",
       "1                 Bruno Mars      Just the Way You Are\n",
       "2    Katy Perry & Snoop Dogg          California Gurls\n",
       "3                 Katy Perry                  Firework\n",
       "4                    Rihanna  Only girl (in the world)\n",
       "..                       ...                       ...\n",
       "693                 J Balvin                     Ginza\n",
       "694                   Hozier         Take Me To Church\n",
       "695             Joey Montana                     Picky\n",
       "696                 Yo Gotti            Down In the DM\n",
       "697                    Nelly                   The Fix\n",
       "\n",
       "[698 rows x 2 columns]"
      ]
     },
     "execution_count": 4,
     "metadata": {},
     "output_type": "execute_result"
    }
   ],
   "source": [
    "import pandas as pd\n",
    "top_songs_and_artists = pd.DataFrame({'Artist':artists,'Song_Title':songs})\n",
    "top_songs_and_artists"
   ]
  },
  {
   "cell_type": "code",
   "execution_count": null,
   "id": "50a29f4d",
   "metadata": {},
   "outputs": [],
   "source": []
  }
 ],
 "metadata": {
  "kernelspec": {
   "display_name": "Python 3 (ipykernel)",
   "language": "python",
   "name": "python3"
  },
  "language_info": {
   "codemirror_mode": {
    "name": "ipython",
    "version": 3
   },
   "file_extension": ".py",
   "mimetype": "text/x-python",
   "name": "python",
   "nbconvert_exporter": "python",
   "pygments_lexer": "ipython3",
   "version": "3.8.11"
  }
 },
 "nbformat": 4,
 "nbformat_minor": 5
}
