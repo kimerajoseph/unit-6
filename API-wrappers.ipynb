{
 "cells": [
  {
   "cell_type": "code",
   "execution_count": 18,
   "id": "592bf512",
   "metadata": {},
   "outputs": [],
   "source": [
    "import spotipy\n",
    "from spotipy.oauth2 import SpotifyClientCredentials\n",
    "import pandas as pd"
   ]
  },
  {
   "cell_type": "code",
   "execution_count": 2,
   "id": "7df9ed3b",
   "metadata": {},
   "outputs": [],
   "source": [
    "secrets_file = open(\"secrets.txt\",\"r\")\n",
    "string = secrets_file.read()\n",
    "string.split('\\n')\n",
    "secrets_dict={}\n",
    "for line in string.split('\\n'):\n",
    "    if len(line) > 0:\n",
    "        secrets_dict[line.split(':')[0]]=line.split(':')[1]"
   ]
  },
  {
   "cell_type": "code",
   "execution_count": 3,
   "id": "1d402000",
   "metadata": {},
   "outputs": [
    {
     "data": {
      "text/plain": [
       "{'Client ID': 'd9dda3bf70ac46268e3dec15ffe8c519',\n",
       " 'Client Secret': 'eddafbd13aea49edab1b6e63e871966d'}"
      ]
     },
     "execution_count": 3,
     "metadata": {},
     "output_type": "execute_result"
    }
   ],
   "source": [
    "secrets_dict"
   ]
  },
  {
   "cell_type": "code",
   "execution_count": 4,
   "id": "4fbe5204",
   "metadata": {},
   "outputs": [],
   "source": [
    "import spotipy\n",
    "from spotipy.oauth2 import SpotifyClientCredentials\n",
    "\n",
    "#Initialize SpotiPy with user credentials\n",
    "sp = spotipy.Spotify(auth_manager=SpotifyClientCredentials(client_id=secrets_dict['Client ID'],\n",
    "                                                           client_secret=secrets_dict['Client Secret']))"
   ]
  },
  {
   "cell_type": "code",
   "execution_count": 5,
   "id": "92e033e3",
   "metadata": {},
   "outputs": [],
   "source": [
    "# we will use our 'first paid music' playlist as an example:\n",
    "playlist = sp.user_playlist_tracks(\"spotify\", \"1UV8OzKszYVhBHoyUAuSvV\")"
   ]
  },
  {
   "cell_type": "code",
   "execution_count": 64,
   "id": "376d27f2",
   "metadata": {},
   "outputs": [],
   "source": [
    "#playlist"
   ]
  },
  {
   "cell_type": "code",
   "execution_count": 7,
   "id": "cbcec842",
   "metadata": {},
   "outputs": [
    {
     "data": {
      "text/plain": [
       "7"
      ]
     },
     "execution_count": 7,
     "metadata": {},
     "output_type": "execute_result"
    }
   ],
   "source": [
    "len(playlist)"
   ]
  },
  {
   "cell_type": "code",
   "execution_count": 8,
   "id": "cd23510b",
   "metadata": {},
   "outputs": [
    {
     "data": {
      "text/plain": [
       "7"
      ]
     },
     "execution_count": 8,
     "metadata": {},
     "output_type": "execute_result"
    }
   ],
   "source": [
    "playlist = sp.user_playlist_tracks(\"spotify\", \"4rnleEAOdmFAbRcNCgZMpY\")\n",
    "len(playlist)"
   ]
  },
  {
   "cell_type": "code",
   "execution_count": 9,
   "id": "3e4c5155",
   "metadata": {},
   "outputs": [],
   "source": [
    "from random import randint\n",
    "from time import sleep\n",
    "\n",
    "def get_playlist_tracks(playlist_id):\n",
    "    results = sp.user_playlist_tracks(\"spotify\",playlist_id)\n",
    "    tracks = results['items']\n",
    "    while results['next']!=None:\n",
    "        results = sp.next(results)\n",
    "        tracks = tracks + results['items']\n",
    "        sleep(randint(1,3))\n",
    "    return tracks"
   ]
  },
  {
   "cell_type": "code",
   "execution_count": 15,
   "id": "332e3097",
   "metadata": {},
   "outputs": [
    {
     "data": {
      "text/plain": [
       "813"
      ]
     },
     "execution_count": 15,
     "metadata": {},
     "output_type": "execute_result"
    }
   ],
   "source": [
    "# all_tracks = get_playlist_tracks(\"0BUNSGihi2mrhQu3fPcVim\")\n",
    "# len(all_tracks)"
   ]
  },
  {
   "cell_type": "code",
   "execution_count": 11,
   "id": "f8cdacde",
   "metadata": {},
   "outputs": [
    {
     "data": {
      "text/plain": [
       "813"
      ]
     },
     "execution_count": 11,
     "metadata": {},
     "output_type": "execute_result"
    }
   ],
   "source": [
    "new_tracks = get_playlist_tracks('0BUNSGihi2mrhQu3fPcVim')\n",
    "len(new_tracks)"
   ]
  },
  {
   "cell_type": "code",
   "execution_count": 63,
   "id": "822cc38b",
   "metadata": {},
   "outputs": [],
   "source": [
    "#new_tracks"
   ]
  },
  {
   "cell_type": "code",
   "execution_count": 13,
   "id": "33b22f09",
   "metadata": {},
   "outputs": [],
   "source": [
    "def uris(new_tracks):\n",
    "    uris = [new_tracks[i]['track']['uri'] for i in range(len(new_tracks))]\n",
    "    return uris\n",
    "uris = uris(new_tracks)\n"
   ]
  },
  {
   "cell_type": "code",
   "execution_count": 16,
   "id": "61ff5022",
   "metadata": {},
   "outputs": [
    {
     "data": {
      "text/plain": [
       "813"
      ]
     },
     "execution_count": 16,
     "metadata": {},
     "output_type": "execute_result"
    }
   ],
   "source": [
    "len(uris)"
   ]
  },
  {
   "cell_type": "code",
   "execution_count": 59,
   "id": "efb67d00",
   "metadata": {},
   "outputs": [
    {
     "data": {
      "text/plain": [
       "(813, 1)"
      ]
     },
     "execution_count": 59,
     "metadata": {},
     "output_type": "execute_result"
    }
   ],
   "source": [
    "df_all_uris = pd.DataFrame(uris, columns=['uri'])   \n",
    "df_all_uris.shape"
   ]
  },
  {
   "cell_type": "code",
   "execution_count": 22,
   "id": "e162288a",
   "metadata": {},
   "outputs": [],
   "source": [
    "def all_track_names(all_tracks):\n",
    "    names = [all_tracks[i]['track']['name'] for i in range(len(all_tracks))]      #tracks\n",
    "    return names\n",
    "all_track_names = all_track_names(all_tracks)\n"
   ]
  },
  {
   "cell_type": "code",
   "execution_count": 23,
   "id": "24c5fa91",
   "metadata": {},
   "outputs": [
    {
     "data": {
      "text/plain": [
       "(813, 1)"
      ]
     },
     "execution_count": 23,
     "metadata": {},
     "output_type": "execute_result"
    }
   ],
   "source": [
    "df_all_tracks = pd.DataFrame(all_track_names, columns=['tracks'])      #uris data frame\n",
    "df_all_tracks.shape"
   ]
  },
  {
   "cell_type": "code",
   "execution_count": 24,
   "id": "99fa27ad",
   "metadata": {},
   "outputs": [],
   "source": [
    "def all_artists(all_tracks):\n",
    "    artist = [all_tracks[i]['track']['artists'][0]['name'] for i in range(len(all_tracks))]    #artists\n",
    "    return artist  \n",
    "all_artists = all_artists(all_tracks)\n"
   ]
  },
  {
   "cell_type": "code",
   "execution_count": 61,
   "id": "1c1a876b",
   "metadata": {},
   "outputs": [
    {
     "data": {
      "text/plain": [
       "(813, 1)"
      ]
     },
     "execution_count": 61,
     "metadata": {},
     "output_type": "execute_result"
    }
   ],
   "source": [
    "artists_df = pd.DataFrame(all_artists, columns=['artist'])         #artitst data frame\n",
    "artists_df.shape"
   ]
  },
  {
   "cell_type": "code",
   "execution_count": 27,
   "id": "0e5c754a",
   "metadata": {},
   "outputs": [],
   "source": [
    "features = [sp.audio_features(i) for i in (uris)]"
   ]
  },
  {
   "cell_type": "code",
   "execution_count": 68,
   "id": "4d2f5666",
   "metadata": {},
   "outputs": [
    {
     "data": {
      "text/plain": [
       "[[{'danceability': 0.526,\n",
       "   'energy': 0.413,\n",
       "   'key': 9,\n",
       "   'loudness': -7.674,\n",
       "   'mode': 1,\n",
       "   'speechiness': 0.0278,\n",
       "   'acousticness': 0.428,\n",
       "   'instrumentalness': 0,\n",
       "   'liveness': 0.126,\n",
       "   'valence': 0.211,\n",
       "   'tempo': 115.936,\n",
       "   'type': 'audio_features',\n",
       "   'id': '1SJ4ycWow4yz6z4oFz8NAG',\n",
       "   'uri': 'spotify:track:1SJ4ycWow4yz6z4oFz8NAG',\n",
       "   'track_href': 'https://api.spotify.com/v1/tracks/1SJ4ycWow4yz6z4oFz8NAG',\n",
       "   'analysis_url': 'https://api.spotify.com/v1/audio-analysis/1SJ4ycWow4yz6z4oFz8NAG',\n",
       "   'duration_ms': 188933,\n",
       "   'time_signature': 3}],\n",
       " [{'danceability': 0.663,\n",
       "   'energy': 0.168,\n",
       "   'key': 0,\n",
       "   'loudness': -13.725,\n",
       "   'mode': 1,\n",
       "   'speechiness': 0.0448,\n",
       "   'acousticness': 0.928,\n",
       "   'instrumentalness': 5.68e-05,\n",
       "   'liveness': 0.361,\n",
       "   'valence': 0.678,\n",
       "   'tempo': 85.005,\n",
       "   'type': 'audio_features',\n",
       "   'id': '25U7raB3ZSszayTYClh4hF',\n",
       "   'uri': 'spotify:track:25U7raB3ZSszayTYClh4hF',\n",
       "   'track_href': 'https://api.spotify.com/v1/tracks/25U7raB3ZSszayTYClh4hF',\n",
       "   'analysis_url': 'https://api.spotify.com/v1/audio-analysis/25U7raB3ZSszayTYClh4hF',\n",
       "   'duration_ms': 308027,\n",
       "   'time_signature': 4}],\n",
       " [{'danceability': 0.422,\n",
       "   'energy': 0.878,\n",
       "   'key': 5,\n",
       "   'loudness': -4.863,\n",
       "   'mode': 1,\n",
       "   'speechiness': 0.0442,\n",
       "   'acousticness': 0.00935,\n",
       "   'instrumentalness': 0.332,\n",
       "   'liveness': 0.201,\n",
       "   'valence': 0.496,\n",
       "   'tempo': 84.044,\n",
       "   'type': 'audio_features',\n",
       "   'id': '04cdEVbQPb8BJb7593e5fO',\n",
       "   'uri': 'spotify:track:04cdEVbQPb8BJb7593e5fO',\n",
       "   'track_href': 'https://api.spotify.com/v1/tracks/04cdEVbQPb8BJb7593e5fO',\n",
       "   'analysis_url': 'https://api.spotify.com/v1/audio-analysis/04cdEVbQPb8BJb7593e5fO',\n",
       "   'duration_ms': 143360,\n",
       "   'time_signature': 4}],\n",
       " [{'danceability': 0.821,\n",
       "   'energy': 0.676,\n",
       "   'key': 3,\n",
       "   'loudness': -6.366,\n",
       "   'mode': 0,\n",
       "   'speechiness': 0.0547,\n",
       "   'acousticness': 0.187,\n",
       "   'instrumentalness': 0.0001,\n",
       "   'liveness': 0.0927,\n",
       "   'valence': 0.559,\n",
       "   'tempo': 119.012,\n",
       "   'type': 'audio_features',\n",
       "   'id': '5HSkycOEtb9iQ7cg1Oyqmu',\n",
       "   'uri': 'spotify:track:5HSkycOEtb9iQ7cg1Oyqmu',\n",
       "   'track_href': 'https://api.spotify.com/v1/tracks/5HSkycOEtb9iQ7cg1Oyqmu',\n",
       "   'analysis_url': 'https://api.spotify.com/v1/audio-analysis/5HSkycOEtb9iQ7cg1Oyqmu',\n",
       "   'duration_ms': 212360,\n",
       "   'time_signature': 4}],\n",
       " [{'danceability': 0.388,\n",
       "   'energy': 0.327,\n",
       "   'key': 5,\n",
       "   'loudness': -12.522,\n",
       "   'mode': 1,\n",
       "   'speechiness': 0.0317,\n",
       "   'acousticness': 0.732,\n",
       "   'instrumentalness': 0.00103,\n",
       "   'liveness': 0.15,\n",
       "   'valence': 0.222,\n",
       "   'tempo': 107.894,\n",
       "   'type': 'audio_features',\n",
       "   'id': '2pp3RfqX5cb1BAnmNi4Nej',\n",
       "   'uri': 'spotify:track:2pp3RfqX5cb1BAnmNi4Nej',\n",
       "   'track_href': 'https://api.spotify.com/v1/tracks/2pp3RfqX5cb1BAnmNi4Nej',\n",
       "   'analysis_url': 'https://api.spotify.com/v1/audio-analysis/2pp3RfqX5cb1BAnmNi4Nej',\n",
       "   'duration_ms': 140333,\n",
       "   'time_signature': 3}],\n",
       " [{'danceability': 0.296,\n",
       "   'energy': 0.929,\n",
       "   'key': 9,\n",
       "   'loudness': -3.068,\n",
       "   'mode': 1,\n",
       "   'speechiness': 0.0751,\n",
       "   'acousticness': 0.000722,\n",
       "   'instrumentalness': 5.83e-06,\n",
       "   'liveness': 0.349,\n",
       "   'valence': 0.411,\n",
       "   'tempo': 123.709,\n",
       "   'type': 'audio_features',\n",
       "   'id': '4wH29TM74O3788Kn1KzWuY',\n",
       "   'uri': 'spotify:track:4wH29TM74O3788Kn1KzWuY',\n",
       "   'track_href': 'https://api.spotify.com/v1/tracks/4wH29TM74O3788Kn1KzWuY',\n",
       "   'analysis_url': 'https://api.spotify.com/v1/audio-analysis/4wH29TM74O3788Kn1KzWuY',\n",
       "   'duration_ms': 558520,\n",
       "   'time_signature': 4}],\n",
       " [{'danceability': 0.546,\n",
       "   'energy': 0.814,\n",
       "   'key': 7,\n",
       "   'loudness': -5.146,\n",
       "   'mode': 1,\n",
       "   'speechiness': 0.0314,\n",
       "   'acousticness': 0.023,\n",
       "   'instrumentalness': 0,\n",
       "   'liveness': 0.0972,\n",
       "   'valence': 0.146,\n",
       "   'tempo': 104.98,\n",
       "   'type': 'audio_features',\n",
       "   'id': '3ZffCQKLFLUvYM59XKLbVm',\n",
       "   'uri': 'spotify:track:3ZffCQKLFLUvYM59XKLbVm',\n",
       "   'track_href': 'https://api.spotify.com/v1/tracks/3ZffCQKLFLUvYM59XKLbVm',\n",
       "   'analysis_url': 'https://api.spotify.com/v1/audio-analysis/3ZffCQKLFLUvYM59XKLbVm',\n",
       "   'duration_ms': 285653,\n",
       "   'time_signature': 4}],\n",
       " [{'danceability': 0.3,\n",
       "   'energy': 0.929,\n",
       "   'key': 1,\n",
       "   'loudness': -3.214,\n",
       "   'mode': 1,\n",
       "   'speechiness': 0.0636,\n",
       "   'acousticness': 0.000259,\n",
       "   'instrumentalness': 2.26e-06,\n",
       "   'liveness': 0.329,\n",
       "   'valence': 0.59,\n",
       "   'tempo': 147.116,\n",
       "   'type': 'audio_features',\n",
       "   'id': '58KPPL1AdLHMvR2O2PZejr',\n",
       "   'uri': 'spotify:track:58KPPL1AdLHMvR2O2PZejr',\n",
       "   'track_href': 'https://api.spotify.com/v1/tracks/58KPPL1AdLHMvR2O2PZejr',\n",
       "   'analysis_url': 'https://api.spotify.com/v1/audio-analysis/58KPPL1AdLHMvR2O2PZejr',\n",
       "   'duration_ms': 548253,\n",
       "   'time_signature': 4}],\n",
       " [{'danceability': 0.855,\n",
       "   'energy': 0.954,\n",
       "   'key': 0,\n",
       "   'loudness': -1.19,\n",
       "   'mode': 0,\n",
       "   'speechiness': 0.264,\n",
       "   'acousticness': 0.529,\n",
       "   'instrumentalness': 0,\n",
       "   'liveness': 0.205,\n",
       "   'valence': 0.668,\n",
       "   'tempo': 114.635,\n",
       "   'type': 'audio_features',\n",
       "   'id': '7Ie9W94M7OjPoZVV216Xus',\n",
       "   'uri': 'spotify:track:7Ie9W94M7OjPoZVV216Xus',\n",
       "   'track_href': 'https://api.spotify.com/v1/tracks/7Ie9W94M7OjPoZVV216Xus',\n",
       "   'analysis_url': 'https://api.spotify.com/v1/audio-analysis/7Ie9W94M7OjPoZVV216Xus',\n",
       "   'duration_ms': 248133,\n",
       "   'time_signature': 5}],\n",
       " [{'danceability': 0.726,\n",
       "   'energy': 0.542,\n",
       "   'key': 7,\n",
       "   'loudness': -9.523,\n",
       "   'mode': 1,\n",
       "   'speechiness': 0.03,\n",
       "   'acousticness': 0.327,\n",
       "   'instrumentalness': 0,\n",
       "   'liveness': 0.146,\n",
       "   'valence': 0.305,\n",
       "   'tempo': 120.201,\n",
       "   'type': 'audio_features',\n",
       "   'id': '6aihKTSpfxixl9uqm4hNEy',\n",
       "   'uri': 'spotify:track:6aihKTSpfxixl9uqm4hNEy',\n",
       "   'track_href': 'https://api.spotify.com/v1/tracks/6aihKTSpfxixl9uqm4hNEy',\n",
       "   'analysis_url': 'https://api.spotify.com/v1/audio-analysis/6aihKTSpfxixl9uqm4hNEy',\n",
       "   'duration_ms': 189840,\n",
       "   'time_signature': 4}],\n",
       " [{'danceability': 0.302,\n",
       "   'energy': 0.692,\n",
       "   'key': 8,\n",
       "   'loudness': -5.848,\n",
       "   'mode': 1,\n",
       "   'speechiness': 0.0311,\n",
       "   'acousticness': 0.000535,\n",
       "   'instrumentalness': 0.533,\n",
       "   'liveness': 0.153,\n",
       "   'valence': 0.259,\n",
       "   'tempo': 158.325,\n",
       "   'type': 'audio_features',\n",
       "   'id': '5PMA1s2sfSlZWTB4XjEGfo',\n",
       "   'uri': 'spotify:track:5PMA1s2sfSlZWTB4XjEGfo',\n",
       "   'track_href': 'https://api.spotify.com/v1/tracks/5PMA1s2sfSlZWTB4XjEGfo',\n",
       "   'analysis_url': 'https://api.spotify.com/v1/audio-analysis/5PMA1s2sfSlZWTB4XjEGfo',\n",
       "   'duration_ms': 202493,\n",
       "   'time_signature': 4}],\n",
       " [{'danceability': 0.381,\n",
       "   'energy': 0.732,\n",
       "   'key': 10,\n",
       "   'loudness': -7.594,\n",
       "   'mode': 0,\n",
       "   'speechiness': 0.0536,\n",
       "   'acousticness': 0.00834,\n",
       "   'instrumentalness': 0.0101,\n",
       "   'liveness': 0.0854,\n",
       "   'valence': 0.814,\n",
       "   'tempo': 142.504,\n",
       "   'type': 'audio_features',\n",
       "   'id': '3LRJbFT9rKoKv4aW7PuBJC',\n",
       "   'uri': 'spotify:track:3LRJbFT9rKoKv4aW7PuBJC',\n",
       "   'track_href': 'https://api.spotify.com/v1/tracks/3LRJbFT9rKoKv4aW7PuBJC',\n",
       "   'analysis_url': 'https://api.spotify.com/v1/audio-analysis/3LRJbFT9rKoKv4aW7PuBJC',\n",
       "   'duration_ms': 233240,\n",
       "   'time_signature': 4}],\n",
       " [{'danceability': 0.629,\n",
       "   'energy': 0.718,\n",
       "   'key': 9,\n",
       "   'loudness': -6.557,\n",
       "   'mode': 0,\n",
       "   'speechiness': 0.035,\n",
       "   'acousticness': 0.011,\n",
       "   'instrumentalness': 0.000211,\n",
       "   'liveness': 0.152,\n",
       "   'valence': 0.0611,\n",
       "   'tempo': 140.02,\n",
       "   'type': 'audio_features',\n",
       "   'id': '2KzIsNi9E7H74h0oVX9JzY',\n",
       "   'uri': 'spotify:track:2KzIsNi9E7H74h0oVX9JzY',\n",
       "   'track_href': 'https://api.spotify.com/v1/tracks/2KzIsNi9E7H74h0oVX9JzY',\n",
       "   'analysis_url': 'https://api.spotify.com/v1/audio-analysis/2KzIsNi9E7H74h0oVX9JzY',\n",
       "   'duration_ms': 292286,\n",
       "   'time_signature': 4}],\n",
       " [{'danceability': 0.747,\n",
       "   'energy': 0.561,\n",
       "   'key': 0,\n",
       "   'loudness': -14.553,\n",
       "   'mode': 1,\n",
       "   'speechiness': 0.204,\n",
       "   'acousticness': 0.0877,\n",
       "   'instrumentalness': 3.02e-05,\n",
       "   'liveness': 0.076,\n",
       "   'valence': 0.644,\n",
       "   'tempo': 141.034,\n",
       "   'type': 'audio_features',\n",
       "   'id': '3NdAXnoxuXuIM74oQWVAna',\n",
       "   'uri': 'spotify:track:3NdAXnoxuXuIM74oQWVAna',\n",
       "   'track_href': 'https://api.spotify.com/v1/tracks/3NdAXnoxuXuIM74oQWVAna',\n",
       "   'analysis_url': 'https://api.spotify.com/v1/audio-analysis/3NdAXnoxuXuIM74oQWVAna',\n",
       "   'duration_ms': 235128,\n",
       "   'time_signature': 4}],\n",
       " [{'danceability': 0.858,\n",
       "   'energy': 0.678,\n",
       "   'key': 1,\n",
       "   'loudness': -3.87,\n",
       "   'mode': 0,\n",
       "   'speechiness': 0.0469,\n",
       "   'acousticness': 0.0761,\n",
       "   'instrumentalness': 0,\n",
       "   'liveness': 0.0741,\n",
       "   'valence': 0.922,\n",
       "   'tempo': 117.009,\n",
       "   'type': 'audio_features',\n",
       "   'id': '0laYHRpNTS6i8FXdupHkJ4',\n",
       "   'uri': 'spotify:track:0laYHRpNTS6i8FXdupHkJ4',\n",
       "   'track_href': 'https://api.spotify.com/v1/tracks/0laYHRpNTS6i8FXdupHkJ4',\n",
       "   'analysis_url': 'https://api.spotify.com/v1/audio-analysis/0laYHRpNTS6i8FXdupHkJ4',\n",
       "   'duration_ms': 188453,\n",
       "   'time_signature': 4}],\n",
       " [{'danceability': 0.378,\n",
       "   'energy': 0.638,\n",
       "   'key': 10,\n",
       "   'loudness': -5.576,\n",
       "   'mode': 1,\n",
       "   'speechiness': 0.075,\n",
       "   'acousticness': 0.02,\n",
       "   'instrumentalness': 7.66e-05,\n",
       "   'liveness': 0.0849,\n",
       "   'valence': 0.735,\n",
       "   'tempo': 184.086,\n",
       "   'type': 'audio_features',\n",
       "   'id': '7a86XRg84qjasly9f6bPSD',\n",
       "   'uri': 'spotify:track:7a86XRg84qjasly9f6bPSD',\n",
       "   'track_href': 'https://api.spotify.com/v1/tracks/7a86XRg84qjasly9f6bPSD',\n",
       "   'analysis_url': 'https://api.spotify.com/v1/audio-analysis/7a86XRg84qjasly9f6bPSD',\n",
       "   'duration_ms': 250627,\n",
       "   'time_signature': 4}],\n",
       " [{'danceability': 0.704,\n",
       "   'energy': 0.558,\n",
       "   'key': 2,\n",
       "   'loudness': -7.273,\n",
       "   'mode': 0,\n",
       "   'speechiness': 0.0542,\n",
       "   'acousticness': 0.148,\n",
       "   'instrumentalness': 0,\n",
       "   'liveness': 0.107,\n",
       "   'valence': 0.245,\n",
       "   'tempo': 110.444,\n",
       "   'type': 'audio_features',\n",
       "   'id': '2tJulUYLDKOg9XrtVkMgcJ',\n",
       "   'uri': 'spotify:track:2tJulUYLDKOg9XrtVkMgcJ',\n",
       "   'track_href': 'https://api.spotify.com/v1/tracks/2tJulUYLDKOg9XrtVkMgcJ',\n",
       "   'analysis_url': 'https://api.spotify.com/v1/audio-analysis/2tJulUYLDKOg9XrtVkMgcJ',\n",
       "   'duration_ms': 222091,\n",
       "   'time_signature': 4}],\n",
       " [{'danceability': 0.621,\n",
       "   'energy': 0.82,\n",
       "   'key': 10,\n",
       "   'loudness': -4.865,\n",
       "   'mode': 1,\n",
       "   'speechiness': 0.0367,\n",
       "   'acousticness': 0.332,\n",
       "   'instrumentalness': 0,\n",
       "   'liveness': 0.104,\n",
       "   'valence': 0.452,\n",
       "   'tempo': 144.905,\n",
       "   'type': 'audio_features',\n",
       "   'id': '22PMfvdz35fFKYnJyMn077',\n",
       "   'uri': 'spotify:track:22PMfvdz35fFKYnJyMn077',\n",
       "   'track_href': 'https://api.spotify.com/v1/tracks/22PMfvdz35fFKYnJyMn077',\n",
       "   'analysis_url': 'https://api.spotify.com/v1/audio-analysis/22PMfvdz35fFKYnJyMn077',\n",
       "   'duration_ms': 230192,\n",
       "   'time_signature': 4}],\n",
       " [{'danceability': 0.502,\n",
       "   'energy': 0.239,\n",
       "   'key': 9,\n",
       "   'loudness': -14.54,\n",
       "   'mode': 0,\n",
       "   'speechiness': 0.0308,\n",
       "   'acousticness': 0.436,\n",
       "   'instrumentalness': 1.65e-06,\n",
       "   'liveness': 0.0966,\n",
       "   'valence': 0.403,\n",
       "   'tempo': 93.733,\n",
       "   'type': 'audio_features',\n",
       "   'id': '0EycxtLQimD0jgscVwTQBz',\n",
       "   'uri': 'spotify:track:0EycxtLQimD0jgscVwTQBz',\n",
       "   'track_href': 'https://api.spotify.com/v1/tracks/0EycxtLQimD0jgscVwTQBz',\n",
       "   'analysis_url': 'https://api.spotify.com/v1/audio-analysis/0EycxtLQimD0jgscVwTQBz',\n",
       "   'duration_ms': 201187,\n",
       "   'time_signature': 4}],\n",
       " [{'danceability': 0.32,\n",
       "   'energy': 0.311,\n",
       "   'key': 2,\n",
       "   'loudness': -12.753,\n",
       "   'mode': 1,\n",
       "   'speechiness': 0.029,\n",
       "   'acousticness': 0.444,\n",
       "   'instrumentalness': 0.000709,\n",
       "   'liveness': 0.128,\n",
       "   'valence': 0.434,\n",
       "   'tempo': 188.298,\n",
       "   'type': 'audio_features',\n",
       "   'id': '2QVA6ZKunwNJApyPKvIJ6S',\n",
       "   'uri': 'spotify:track:2QVA6ZKunwNJApyPKvIJ6S',\n",
       "   'track_href': 'https://api.spotify.com/v1/tracks/2QVA6ZKunwNJApyPKvIJ6S',\n",
       "   'analysis_url': 'https://api.spotify.com/v1/audio-analysis/2QVA6ZKunwNJApyPKvIJ6S',\n",
       "   'duration_ms': 318280,\n",
       "   'time_signature': 3}]]"
      ]
     },
     "execution_count": 68,
     "metadata": {},
     "output_type": "execute_result"
    }
   ],
   "source": [
    "features[:20]"
   ]
  },
  {
   "cell_type": "code",
   "execution_count": 55,
   "id": "6572d90b",
   "metadata": {},
   "outputs": [],
   "source": [
    "flat_list = [x for x in fit for fit in features]"
   ]
  },
  {
   "cell_type": "code",
   "execution_count": 50,
   "id": "2d2d8654",
   "metadata": {},
   "outputs": [],
   "source": [
    "# danceability = [item['danceability'] for item in flat_list]\n",
    "# energy = [item['energy'] for item in flat_list]\n",
    "# key = [item['key'] for item in flat_list]\n",
    "# loudness = [item['loudness'] for item in flat_list]\n",
    "# mode = [item['mode'] for item in flat_list]\n",
    "# speechiness = [item['speechiness'] for item in flat_list]\n",
    "# acousticness = [item['acousticness'] for item in flat_list]\n",
    "# instrumentalness = [item['instrumentalness'] for item in flat_list]\n",
    "# liveness = [item['liveness'] for item in flat_list]\n",
    "# valence = [item['valence'] for item in flat_list]\n",
    "# tempo = [item['tempo'] for item in flat_list]"
   ]
  },
  {
   "cell_type": "code",
   "execution_count": 56,
   "id": "92f624c3",
   "metadata": {},
   "outputs": [],
   "source": [
    "attributes = ['danceability','energy','key','loudness','mode','speechiness','acousticness','instrumentalness','liveness','valence','tempo']\n",
    "for attr in attributes:\n",
    "    attr = [item[attr] for item in flat_list]"
   ]
  },
  {
   "cell_type": "code",
   "execution_count": 58,
   "id": "e9fa77f1",
   "metadata": {},
   "outputs": [
    {
     "data": {
      "text/html": [
       "<div>\n",
       "<style scoped>\n",
       "    .dataframe tbody tr th:only-of-type {\n",
       "        vertical-align: middle;\n",
       "    }\n",
       "\n",
       "    .dataframe tbody tr th {\n",
       "        vertical-align: top;\n",
       "    }\n",
       "\n",
       "    .dataframe thead th {\n",
       "        text-align: right;\n",
       "    }\n",
       "</style>\n",
       "<table border=\"1\" class=\"dataframe\">\n",
       "  <thead>\n",
       "    <tr style=\"text-align: right;\">\n",
       "      <th></th>\n",
       "      <th>danceability</th>\n",
       "      <th>energy</th>\n",
       "      <th>key</th>\n",
       "      <th>loudness</th>\n",
       "      <th>mode</th>\n",
       "      <th>speechiness</th>\n",
       "      <th>acousticness</th>\n",
       "      <th>instrumentalness</th>\n",
       "      <th>liveness</th>\n",
       "      <th>valence</th>\n",
       "      <th>tempo</th>\n",
       "    </tr>\n",
       "  </thead>\n",
       "  <tbody>\n",
       "    <tr>\n",
       "      <th>0</th>\n",
       "      <td>0.308</td>\n",
       "      <td>0.376</td>\n",
       "      <td>4</td>\n",
       "      <td>-15.24</td>\n",
       "      <td>1</td>\n",
       "      <td>0.0626</td>\n",
       "      <td>0.116</td>\n",
       "      <td>0.000003</td>\n",
       "      <td>0.166</td>\n",
       "      <td>0.158</td>\n",
       "      <td>186.047</td>\n",
       "    </tr>\n",
       "    <tr>\n",
       "      <th>1</th>\n",
       "      <td>0.308</td>\n",
       "      <td>0.376</td>\n",
       "      <td>4</td>\n",
       "      <td>-15.24</td>\n",
       "      <td>1</td>\n",
       "      <td>0.0626</td>\n",
       "      <td>0.116</td>\n",
       "      <td>0.000003</td>\n",
       "      <td>0.166</td>\n",
       "      <td>0.158</td>\n",
       "      <td>186.047</td>\n",
       "    </tr>\n",
       "    <tr>\n",
       "      <th>2</th>\n",
       "      <td>0.308</td>\n",
       "      <td>0.376</td>\n",
       "      <td>4</td>\n",
       "      <td>-15.24</td>\n",
       "      <td>1</td>\n",
       "      <td>0.0626</td>\n",
       "      <td>0.116</td>\n",
       "      <td>0.000003</td>\n",
       "      <td>0.166</td>\n",
       "      <td>0.158</td>\n",
       "      <td>186.047</td>\n",
       "    </tr>\n",
       "    <tr>\n",
       "      <th>3</th>\n",
       "      <td>0.308</td>\n",
       "      <td>0.376</td>\n",
       "      <td>4</td>\n",
       "      <td>-15.24</td>\n",
       "      <td>1</td>\n",
       "      <td>0.0626</td>\n",
       "      <td>0.116</td>\n",
       "      <td>0.000003</td>\n",
       "      <td>0.166</td>\n",
       "      <td>0.158</td>\n",
       "      <td>186.047</td>\n",
       "    </tr>\n",
       "    <tr>\n",
       "      <th>4</th>\n",
       "      <td>0.308</td>\n",
       "      <td>0.376</td>\n",
       "      <td>4</td>\n",
       "      <td>-15.24</td>\n",
       "      <td>1</td>\n",
       "      <td>0.0626</td>\n",
       "      <td>0.116</td>\n",
       "      <td>0.000003</td>\n",
       "      <td>0.166</td>\n",
       "      <td>0.158</td>\n",
       "      <td>186.047</td>\n",
       "    </tr>\n",
       "  </tbody>\n",
       "</table>\n",
       "</div>"
      ],
      "text/plain": [
       "   danceability  energy  key  loudness  mode  speechiness  acousticness  \\\n",
       "0         0.308   0.376    4    -15.24     1       0.0626         0.116   \n",
       "1         0.308   0.376    4    -15.24     1       0.0626         0.116   \n",
       "2         0.308   0.376    4    -15.24     1       0.0626         0.116   \n",
       "3         0.308   0.376    4    -15.24     1       0.0626         0.116   \n",
       "4         0.308   0.376    4    -15.24     1       0.0626         0.116   \n",
       "\n",
       "   instrumentalness  liveness  valence    tempo  \n",
       "0          0.000003     0.166    0.158  186.047  \n",
       "1          0.000003     0.166    0.158  186.047  \n",
       "2          0.000003     0.166    0.158  186.047  \n",
       "3          0.000003     0.166    0.158  186.047  \n",
       "4          0.000003     0.166    0.158  186.047  "
      ]
     },
     "execution_count": 58,
     "metadata": {},
     "output_type": "execute_result"
    }
   ],
   "source": [
    "features_df = pd.DataFrame.from_dict({'danceability':danceability, 'energy':energy, 'key':key, 'loudness':loudness, 'mode':mode, 'speechiness':speechiness, 'acousticness':acousticness, 'instrumentalness':instrumentalness, 'liveness':liveness, 'valence':valence, 'tempo':tempo})\n",
    "features_df.head()\n"
   ]
  },
  {
   "cell_type": "code",
   "execution_count": 62,
   "id": "740c9a4e",
   "metadata": {},
   "outputs": [
    {
     "data": {
      "text/html": [
       "<div>\n",
       "<style scoped>\n",
       "    .dataframe tbody tr th:only-of-type {\n",
       "        vertical-align: middle;\n",
       "    }\n",
       "\n",
       "    .dataframe tbody tr th {\n",
       "        vertical-align: top;\n",
       "    }\n",
       "\n",
       "    .dataframe thead th {\n",
       "        text-align: right;\n",
       "    }\n",
       "</style>\n",
       "<table border=\"1\" class=\"dataframe\">\n",
       "  <thead>\n",
       "    <tr style=\"text-align: right;\">\n",
       "      <th></th>\n",
       "      <th>artist</th>\n",
       "      <th>tracks</th>\n",
       "      <th>danceability</th>\n",
       "      <th>energy</th>\n",
       "      <th>key</th>\n",
       "      <th>loudness</th>\n",
       "      <th>mode</th>\n",
       "      <th>speechiness</th>\n",
       "      <th>acousticness</th>\n",
       "      <th>instrumentalness</th>\n",
       "      <th>liveness</th>\n",
       "      <th>valence</th>\n",
       "      <th>tempo</th>\n",
       "    </tr>\n",
       "  </thead>\n",
       "  <tbody>\n",
       "    <tr>\n",
       "      <th>0</th>\n",
       "      <td>The Muppets</td>\n",
       "      <td>Rainbow Connection</td>\n",
       "      <td>0.308</td>\n",
       "      <td>0.376</td>\n",
       "      <td>4</td>\n",
       "      <td>-15.24</td>\n",
       "      <td>1</td>\n",
       "      <td>0.0626</td>\n",
       "      <td>0.116</td>\n",
       "      <td>0.000003</td>\n",
       "      <td>0.166</td>\n",
       "      <td>0.158</td>\n",
       "      <td>186.047</td>\n",
       "    </tr>\n",
       "    <tr>\n",
       "      <th>1</th>\n",
       "      <td>Israel Kamakawiwo'ole</td>\n",
       "      <td>Somewhere Over The Rainbow_What A Wonderful World</td>\n",
       "      <td>0.308</td>\n",
       "      <td>0.376</td>\n",
       "      <td>4</td>\n",
       "      <td>-15.24</td>\n",
       "      <td>1</td>\n",
       "      <td>0.0626</td>\n",
       "      <td>0.116</td>\n",
       "      <td>0.000003</td>\n",
       "      <td>0.166</td>\n",
       "      <td>0.158</td>\n",
       "      <td>186.047</td>\n",
       "    </tr>\n",
       "    <tr>\n",
       "      <th>2</th>\n",
       "      <td>Joey Ramone</td>\n",
       "      <td>What a Wonderful World</td>\n",
       "      <td>0.308</td>\n",
       "      <td>0.376</td>\n",
       "      <td>4</td>\n",
       "      <td>-15.24</td>\n",
       "      <td>1</td>\n",
       "      <td>0.0626</td>\n",
       "      <td>0.116</td>\n",
       "      <td>0.000003</td>\n",
       "      <td>0.166</td>\n",
       "      <td>0.158</td>\n",
       "      <td>186.047</td>\n",
       "    </tr>\n",
       "    <tr>\n",
       "      <th>3</th>\n",
       "      <td>Asaf Avidan &amp; the Mojos</td>\n",
       "      <td>One Day / Reckoning Song (Wankelmut Remix) [Ra...</td>\n",
       "      <td>0.308</td>\n",
       "      <td>0.376</td>\n",
       "      <td>4</td>\n",
       "      <td>-15.24</td>\n",
       "      <td>1</td>\n",
       "      <td>0.0626</td>\n",
       "      <td>0.116</td>\n",
       "      <td>0.000003</td>\n",
       "      <td>0.166</td>\n",
       "      <td>0.158</td>\n",
       "      <td>186.047</td>\n",
       "    </tr>\n",
       "    <tr>\n",
       "      <th>4</th>\n",
       "      <td>Louis Armstrong</td>\n",
       "      <td>What A Wonderful World - Single Version</td>\n",
       "      <td>0.308</td>\n",
       "      <td>0.376</td>\n",
       "      <td>4</td>\n",
       "      <td>-15.24</td>\n",
       "      <td>1</td>\n",
       "      <td>0.0626</td>\n",
       "      <td>0.116</td>\n",
       "      <td>0.000003</td>\n",
       "      <td>0.166</td>\n",
       "      <td>0.158</td>\n",
       "      <td>186.047</td>\n",
       "    </tr>\n",
       "  </tbody>\n",
       "</table>\n",
       "</div>"
      ],
      "text/plain": [
       "                    artist                                             tracks  \\\n",
       "0              The Muppets                                 Rainbow Connection   \n",
       "1    Israel Kamakawiwo'ole  Somewhere Over The Rainbow_What A Wonderful World   \n",
       "2              Joey Ramone                             What a Wonderful World   \n",
       "3  Asaf Avidan & the Mojos  One Day / Reckoning Song (Wankelmut Remix) [Ra...   \n",
       "4          Louis Armstrong            What A Wonderful World - Single Version   \n",
       "\n",
       "   danceability  energy  key  loudness  mode  speechiness  acousticness  \\\n",
       "0         0.308   0.376    4    -15.24     1       0.0626         0.116   \n",
       "1         0.308   0.376    4    -15.24     1       0.0626         0.116   \n",
       "2         0.308   0.376    4    -15.24     1       0.0626         0.116   \n",
       "3         0.308   0.376    4    -15.24     1       0.0626         0.116   \n",
       "4         0.308   0.376    4    -15.24     1       0.0626         0.116   \n",
       "\n",
       "   instrumentalness  liveness  valence    tempo  \n",
       "0          0.000003     0.166    0.158  186.047  \n",
       "1          0.000003     0.166    0.158  186.047  \n",
       "2          0.000003     0.166    0.158  186.047  \n",
       "3          0.000003     0.166    0.158  186.047  \n",
       "4          0.000003     0.166    0.158  186.047  "
      ]
     },
     "execution_count": 62,
     "metadata": {},
     "output_type": "execute_result"
    }
   ],
   "source": [
    "# CONCATINATE ALL DATAFRAMES\n",
    "overall_df = pd.concat([artists_df,df_all_tracks,features_df], axis = 1)\n",
    "overall_df.head()"
   ]
  },
  {
   "cell_type": "code",
   "execution_count": null,
   "id": "c4d821f1",
   "metadata": {},
   "outputs": [],
   "source": []
  }
 ],
 "metadata": {
  "kernelspec": {
   "display_name": "Python 3 (ipykernel)",
   "language": "python",
   "name": "python3"
  },
  "language_info": {
   "codemirror_mode": {
    "name": "ipython",
    "version": 3
   },
   "file_extension": ".py",
   "mimetype": "text/x-python",
   "name": "python",
   "nbconvert_exporter": "python",
   "pygments_lexer": "ipython3",
   "version": "3.8.11"
  }
 },
 "nbformat": 4,
 "nbformat_minor": 5
}
